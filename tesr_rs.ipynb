{
 "cells": [
  {
   "cell_type": "code",
   "execution_count": 2,
   "metadata": {},
   "outputs": [
    {
     "data": {
      "text/plain": [
       "<module 'reedsolo' from '/home/sh4ring4n/University/mds/multimedia-data-security/common/reedsolo.py'>"
      ]
     },
     "execution_count": 2,
     "metadata": {},
     "output_type": "execute_result"
    }
   ],
   "source": [
    "import numpy as np\n",
    "import cv2\n",
    "import pywt\n",
    "import matplotlib.pyplot as plt\n",
    "import sys\n",
    "import os\n",
    "from scipy.fft import dct, idct\n",
    "import numpy as np\n",
    "import matplotlib.pyplot as plt\n",
    "from scipy.signal import convolve2d\n",
    "from math import sqrt\n",
    "import importlib\n",
    "sys.path.append(os.path.join(os.getcwd(), 'common'))\n",
    "\n",
    "import reedsolo as rs\n",
    "importlib.reload(rs)"
   ]
  },
  {
   "cell_type": "code",
   "execution_count": 112,
   "metadata": {},
   "outputs": [
    {
     "name": "stdout",
     "output_type": "stream",
     "text": [
      "<class 'numpy.ndarray'>\n",
      "2048\n"
     ]
    }
   ],
   "source": [
    "mark = np.load('ammhackati.npy')\n",
    "\n",
    "# in ebedding part\n",
    "message = np.packbits(mark).astype(np.uint8)\n",
    "\n",
    "message = message.tobytes()\n",
    "\n",
    "splitted_message = [message[i:i+8] for i in range(0, len(message), 8)]\n",
    "\n",
    "\n",
    "rsc = rs.RSCodec(8)\n",
    "encoded = [rsc.encode(message) for message in splitted_message]\n",
    "encoded = [bytes(list(d)) for d in encoded]\n",
    "encoded = b''.join(encoded)\n",
    "encoded = np.frombuffer(encoded, dtype=np.uint8)\n",
    "encoded = np.unpackbits(encoded)\n",
    "\n",
    "print(type(encoded))\n",
    "print(len(encoded))\n",
    "\n",
    "\n",
    "\n",
    "# in detection part\n",
    "\n",
    "# extract mark\n",
    "\n",
    "# ex_enc_mark = ex_enc_mark[0]\n",
    "\n",
    "# encoded_message = np.packbits(encoded).astype(np.uint8)\n",
    "# encoded_message = encoded_message.tobytes()\n",
    "# splitted_encoded_message = [encoded_message[i:i+16] for i in range(0, len(encoded_message), 16)]\n",
    "\n",
    "# decrypted_mark = []\n",
    "\n",
    "# for chunk in encoded_message:\n",
    "#     rmes, rmesecc, l = rsc.decode(chunk)\n",
    "#     decrypted_mark.append(rmes)\n",
    "\n",
    "# decrypted_mark = [bytes(list(d)) for d in decrypted_mark]\n",
    "# decrypted_mark = b''.join(decrypted_mark)\n",
    "# decrypted_mark = np.frombuffer(decrypted_mark, dtype=np.uint8)\n",
    "# decrypted_mark = np.unpackbits(decrypted_mark)\n",
    "\n",
    "# print(splitted_message)\n",
    "# extracted_marks = []\n",
    "# decrypted = []\n",
    "# erase_position = []\n",
    "# for enc_mark in extracted_marks:\n",
    "#     encoded_attacked_message = np.packbits(enc_mark).astype(np.uint8)\n",
    "#     encoded_attacked_message = encoded_attacked_message.tobytes()\n",
    "#     splitted_encoded_attacked_message = [encoded_attacked_message[i:i+16] for i in range(0, len(encoded_attacked_message), 16)]\n",
    "#     decrypted = []\n",
    "#     for i, chunk in enumerate(splitted_encoded_attacked_message):\n",
    "#         erase_position = []\n",
    "#         for j, b in enumerate(chunk):\n",
    "#             if splitted_encoded_message[i][j] != b:\n",
    "#                 del chunk[j]\n",
    "#                 erase_position.append(j)\n",
    "\n",
    "#         if len(erase_position) > 8:\n",
    "#             chunk[i] = b'1' * 16\n",
    "#         else:\n",
    "#             rmes, rmesecc, l = rsc.decode(chunk, erase_pos=erase_position)\n",
    "#             decrypted.append(rmes)\n",
    "\n",
    "#     decrypted = [bytes(list(d)) for d in decrypted]\n",
    "#     decrypted = b''.join(decrypted)\n",
    "#     decrypted = np.frombuffer(decrypted, dtype=np.uint8)\n",
    "#     decrypted = np.unpackbits(decrypted)\n",
    "\n",
    "#     sim.append(similarity(decrypted_mark, decrypted))\n",
    "\n",
    "# assert any(decrypted) == any(mark)\n"
   ]
  }
 ],
 "metadata": {
  "kernelspec": {
   "display_name": "OFF_MDS_ENV",
   "language": "python",
   "name": "python3"
  },
  "language_info": {
   "codemirror_mode": {
    "name": "ipython",
    "version": 3
   },
   "file_extension": ".py",
   "mimetype": "text/x-python",
   "name": "python",
   "nbconvert_exporter": "python",
   "pygments_lexer": "ipython3",
   "version": "3.8.10"
  }
 },
 "nbformat": 4,
 "nbformat_minor": 2
}
