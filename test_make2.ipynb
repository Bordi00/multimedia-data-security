{
 "cells": [
  {
   "cell_type": "code",
   "execution_count": 37,
   "metadata": {},
   "outputs": [
    {
     "data": {
      "text/plain": [
       "<module 'embedding' from '/home/make/multimedia/multimedia-data-security/common/embedding.py'>"
      ]
     },
     "execution_count": 37,
     "metadata": {},
     "output_type": "execute_result"
    }
   ],
   "source": [
    "#5\n",
    "import pywt\n",
    "import os\n",
    "from scipy.fft import dct, idct\n",
    "import numpy as np\n",
    "import matplotlib.pyplot as plt\n",
    "import cv2\n",
    "from scipy.signal import convolve2d\n",
    "from math import sqrt\n",
    "import sys\n",
    "sys.path.append(os.path.join(os.getcwd(), 'common'))\n",
    "import detection\n",
    "import utility\n",
    "import attacks\n",
    "from tqdm import tqdm\n",
    "import embedding\n",
    "import importlib\n",
    "importlib.reload(utility)\n",
    "importlib.reload(detection)\n",
    "importlib.reload(attacks)\n",
    "importlib.reload(embedding)\n"
   ]
  },
  {
   "cell_type": "code",
   "execution_count": 38,
   "metadata": {},
   "outputs": [
    {
     "name": "stderr",
     "output_type": "stream",
     "text": [
      "Applying attacks: 100%|██████████| 8/8 [00:48<00:00,  6.05s/it, attack=DWT_MEIDAN, wpsnr=47.3, detected=1, param=kernel_size: [11, 11]] "
     ]
    },
    {
     "name": "stdout",
     "output_type": "stream",
     "text": [
      "{'attack': 'AWGN', 'wpsnr': 32.54743571145596, 'param': 'std: 35'}\n",
      "{'attack': 'Blur', 'wpsnr': 43.65700347219099, 'param': 'sigma: 1'}\n",
      "{'attack': 'Median', 'wpsnr': 40.76296799456945, 'param': 'kernel_size: [5, 5]'}\n",
      "{'attack': 'Resizing', 'wpsnr': 35.85483307672797, 'param': 'scale: 0.3'}\n",
      "History\n",
      "{'attack': 'AWGN', 'wpsnr': 37.30173668435205, 'param': 'std: 20'}\n",
      "{'attack': 'AWGN', 'wpsnr': 35.358884367399696, 'param': 'std: 25'}\n",
      "{'attack': 'AWGN', 'wpsnr': 33.85420095734941, 'param': 'std: 30'}\n",
      "{'attack': 'AWGN', 'wpsnr': 32.54743571145596, 'param': 'std: 35'}\n",
      "{'attack': 'Blur', 'wpsnr': 9999999, 'param': 'sigma: 0'}\n",
      "{'attack': 'Blur', 'wpsnr': 43.65700347219099, 'param': 'sigma: 1'}\n",
      "{'attack': 'Sharpening', 'wpsnr': 9999999, 'param': 'sigma: 0 alpha: 0'}\n",
      "{'attack': 'Sharpening', 'wpsnr': 15.270940207417613, 'param': 'sigma: 5 alpha: 5'}\n",
      "{'attack': 'Sharpening', 'wpsnr': 6.366327533633082, 'param': 'sigma: 10 alpha: 10'}\n",
      "{'attack': 'Sharpening', 'wpsnr': 1.429218898675516, 'param': 'sigma: 15 alpha: 15'}\n",
      "{'attack': 'Sharpening', 'wpsnr': -1.9963406106330648, 'param': 'sigma: 20 alpha: 20'}\n",
      "{'attack': 'Sharpening', 'wpsnr': -4.6013807840371115, 'param': 'sigma: 25 alpha: 25'}\n",
      "{'attack': 'Sharpening', 'wpsnr': -6.680747464107229, 'param': 'sigma: 30 alpha: 30'}\n",
      "{'attack': 'Sharpening', 'wpsnr': -8.39350022886947, 'param': 'sigma: 35 alpha: 35'}\n",
      "{'attack': 'Sharpening', 'wpsnr': -9.840924507754988, 'param': 'sigma: 40 alpha: 40'}\n",
      "{'attack': 'Sharpening', 'wpsnr': -11.091657981610973, 'param': 'sigma: 45 alpha: 45'}\n",
      "{'attack': 'Sharpening', 'wpsnr': -12.19259433564115, 'param': 'sigma: 50 alpha: 50'}\n",
      "{'attack': 'Sharpening', 'wpsnr': -13.175830517024442, 'param': 'sigma: 55 alpha: 55'}\n",
      "{'attack': 'Sharpening', 'wpsnr': -14.063822544988977, 'param': 'sigma: 60 alpha: 60'}\n",
      "{'attack': 'Sharpening', 'wpsnr': -14.872798184009975, 'param': 'sigma: 65 alpha: 65'}\n",
      "{'attack': 'Sharpening', 'wpsnr': -15.614930523761622, 'param': 'sigma: 70 alpha: 70'}\n",
      "{'attack': 'Sharpening', 'wpsnr': -16.29973268354893, 'param': 'sigma: 75 alpha: 75'}\n",
      "{'attack': 'Sharpening', 'wpsnr': -16.93483856331557, 'param': 'sigma: 80 alpha: 80'}\n",
      "{'attack': 'Sharpening', 'wpsnr': -17.526485914207694, 'param': 'sigma: 85 alpha: 85'}\n",
      "{'attack': 'Sharpening', 'wpsnr': -18.079845073216877, 'param': 'sigma: 90 alpha: 90'}\n",
      "{'attack': 'Sharpening', 'wpsnr': -18.59925676217545, 'param': 'sigma: 95 alpha: 95'}\n",
      "{'attack': 'Sharpening', 'wpsnr': -19.08843767843738, 'param': 'sigma: 100 alpha: 100'}\n",
      "{'attack': 'Median', 'wpsnr': 48.6519606050669, 'param': 'kernel_size: [3, 3]'}\n",
      "{'attack': 'Median', 'wpsnr': 40.76296799456945, 'param': 'kernel_size: [5, 5]'}\n",
      "{'attack': 'Resizing', 'wpsnr': 35.85483307672797, 'param': 'scale: 0.3'}\n",
      "{'attack': 'JPEG Compression', 'wpsnr': 63.89619641241409, 'param': 'QF: 100'}\n",
      "{'attack': 'DWT_GAUSS', 'wpsnr': 49.11787239753452, 'param': 'sigma: 1'}\n",
      "{'attack': 'DWT_GAUSS', 'wpsnr': 47.23118247237547, 'param': 'sigma: 6'}\n",
      "{'attack': 'DWT_GAUSS', 'wpsnr': 47.223192312805146, 'param': 'sigma: 11'}\n",
      "{'attack': 'DWT_GAUSS', 'wpsnr': 47.22609188227558, 'param': 'sigma: 16'}\n",
      "{'attack': 'DWT_GAUSS', 'wpsnr': 47.223243983013006, 'param': 'sigma: 21'}\n",
      "{'attack': 'DWT_GAUSS', 'wpsnr': 47.22192968401838, 'param': 'sigma: 26'}\n",
      "{'attack': 'DWT_MEIDAN', 'wpsnr': 48.64433126937609, 'param': 'kernel_size: [3, 3]'}\n",
      "{'attack': 'DWT_MEIDAN', 'wpsnr': 47.29607449238821, 'param': 'kernel_size: [5, 5]'}\n",
      "{'attack': 'DWT_MEIDAN', 'wpsnr': 47.311031250875224, 'param': 'kernel_size: [7, 7]'}\n",
      "{'attack': 'DWT_MEIDAN', 'wpsnr': 47.305526054702874, 'param': 'kernel_size: [9, 9]'}\n",
      "{'attack': 'DWT_MEIDAN', 'wpsnr': 47.283223487215466, 'param': 'kernel_size: [11, 11]'}\n",
      "--------------------------\n",
      "\n",
      "\n"
     ]
    },
    {
     "name": "stderr",
     "output_type": "stream",
     "text": [
      "\n"
     ]
    }
   ],
   "source": [
    "def awgn(img, std, seed):\n",
    "  mean = 0.0   # some constant\n",
    "  np.random.seed(seed)\n",
    "  attacked = img + np.random.normal(mean, std, img.shape)\n",
    "  attacked = np.clip(attacked, 0, 255)\n",
    "  return np.uint8(attacked)\n",
    "\n",
    "def wpsnr(img1, img2):\n",
    "  img1 = np.float32(img1)/255.0\n",
    "  img2 = np.float32(img2)/255.0\n",
    "  difference = img1-img2\n",
    "  same = not np.any(difference)\n",
    "  if same is True:\n",
    "      return 9999999\n",
    "  w = np.genfromtxt('csf.csv', delimiter=',')\n",
    "  ew = convolve2d(difference, np.rot90(w,2), mode='valid')\n",
    "  decibels = 20.0*np.log10(1.0/sqrt(np.mean(np.mean(ew**2))))\n",
    "  return decibels\n",
    "\n",
    "\n",
    "\n",
    "\n",
    "\n",
    "img_path='lena_grey.bmp'\n",
    "N = 1024\n",
    "\n",
    "#v = 'additive'\n",
    "#alpha = 24 \n",
    "v = 'multiplicative'\n",
    "alpha = 0.5\n",
    "np.random.seed(seed=123)\n",
    "\n",
    "\n",
    "image = cv2.imread(img_path, 0)\n",
    "mark = np.load('ammhackati.npy')\n",
    "watermarked1 =  embedding.embedding(image,mark,  alpha)\n",
    "\n",
    "\n",
    "\n",
    "\n",
    "attack_functions = attacks.attack_incremental_paramters\n",
    "progress_bar = tqdm(attack_functions, desc=\"Applying attacks\")\n",
    "history = []\n",
    "succesfull_attack = []\n",
    "for attack_fn in progress_bar:\n",
    "     param = attack_fn['start']\n",
    "     detected = 1\n",
    "     attack_name = ''\n",
    "     while param <= attack_fn['end']:\n",
    "        attacked,attack_name,usd = attack_fn['function'](watermarked1, param)\n",
    "        detected = detection.detection(image, watermarked1,attacked, alpha, 2)\n",
    "        wpsnr_attacked = wpsnr(watermarked1, attacked)\n",
    "        progress_bar.set_postfix({\"attack\":attack_name , \"wpsnr\": wpsnr_attacked,\"detected\":detected,\"param\":usd})\n",
    "        #utility.visualize_images_with_desc([image, watermarked1, attacked], ['Original', 'Watermarked', 'Attacked'])\n",
    "        param += attack_fn['increment_params']\n",
    "\n",
    "        history.append({\"attack\":attack_name , \"wpsnr\": wpsnr_attacked,\"param\":usd})\n",
    "        if detected == 0:\n",
    "            succesfull_attack.append({\"attack\":attack_name , \"wpsnr\": wpsnr_attacked,\"param\":usd})\n",
    "            break\n",
    "\n",
    "     \n",
    "for h in succesfull_attack:\n",
    "    print(h)\n",
    "print(\"History\")\n",
    "for h in history:\n",
    "    print(h)\n",
    "\n",
    "\n",
    "print('--------------------------')\n",
    "print('\\n')\n"
   ]
  }
 ],
 "metadata": {
  "kernelspec": {
   "display_name": "multimedia",
   "language": "python",
   "name": "python3"
  },
  "language_info": {
   "codemirror_mode": {
    "name": "ipython",
    "version": 3
   },
   "file_extension": ".py",
   "mimetype": "text/x-python",
   "name": "python",
   "nbconvert_exporter": "python",
   "pygments_lexer": "ipython3",
   "version": "3.8.10"
  }
 },
 "nbformat": 4,
 "nbformat_minor": 2
}
