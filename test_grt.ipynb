{
 "cells": [
  {
   "cell_type": "code",
   "execution_count": null,
   "metadata": {},
   "outputs": [],
   "source": [
    "# Standard library imports\n",
    "import os\n",
    "import sys\n",
    "import importlib\n",
    "\n",
    "# Add project-specific paths\n",
    "sys.path.append(os.path.join(os.getcwd(), 'common'))\n",
    "\n",
    "# Import custom modules\n",
    "import utility\n",
    "import grt\n",
    "\n",
    "# Reload modules for updates\n",
    "importlib.reload(utility)\n",
    "importlib.reload(grt)"
   ]
  }
 ],
 "metadata": {
  "language_info": {
   "name": "python"
  }
 },
 "nbformat": 4,
 "nbformat_minor": 2
}
