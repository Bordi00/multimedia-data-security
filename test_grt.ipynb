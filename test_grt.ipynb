{
 "cells": [
  {
   "cell_type": "markdown",
   "metadata": {},
   "source": [
    "### Imports"
   ]
  },
  {
   "cell_type": "code",
   "execution_count": null,
   "metadata": {},
   "outputs": [],
   "source": [
    "# Standard library imports\n",
    "import os\n",
    "import sys\n",
    "import importlib\n",
    "import numpy as np\n",
    "import random\n",
    "import cv2\n",
    "from tqdm import tqdm\n",
    "\n",
    "# Add project-specific paths\n",
    "sys.path.append(os.path.join(os.getcwd(), 'common'))\n",
    "\n",
    "# Import custom modules\n",
    "import utility\n",
    "import embedding\n",
    "import detection\n",
    "import grt\n",
    "\n",
    "# Reload module for updates\n",
    "importlib.reload(grt)"
   ]
  },
  {
   "cell_type": "markdown",
   "metadata": {},
   "source": [
    "### Embedding"
   ]
  },
  {
   "cell_type": "code",
   "execution_count": 2,
   "metadata": {},
   "outputs": [],
   "source": [
    "# Randomly select 10 images\n",
    "img_folder = 'sample_imgs'\n",
    "img_files =  [f for f in os.listdir(img_folder) if f.endswith(('.bmp'))]\n",
    "img_files = random.sample(img_files, 10)\n",
    "images = []\n",
    "for file in img_files:\n",
    "    img_path = os.path.join(img_folder, file)\n",
    "    images.append(cv2.imread(img_path, 0))\n",
    "images = np.array(images) # optional\n",
    "\n",
    "mark = np.load('ammhackati.npy')\n",
    "\n",
    "alpha = 0.5\n",
    "\n",
    "watermarked = []\n",
    "for img in images:\n",
    "    watermarked.append(embedding.embedding(img, mark, alpha))"
   ]
  },
  {
   "cell_type": "markdown",
   "metadata": {},
   "source": [
    "### Global attacks"
   ]
  },
  {
   "cell_type": "code",
   "execution_count": null,
   "metadata": {},
   "outputs": [],
   "source": [
    "progress_bar = tqdm(watermarked, desc = \"Applying blur on 10 images\")\n",
    "history = []\n",
    "successful_attacks = []\n",
    "total = 0\n",
    "succ = 0\n",
    "max = 0\n",
    "\n",
    "for index, wm in enumerate(progress_bar):\n",
    "    for param in np.arange(0, 5, 0.2):\n",
    "        attacked, attack_name, usd = grt.blur_gauss(wm, param)\n",
    "        detected = detection.detection(images[index], wm, attacked, alpha, 2)\n",
    "        wpsnr_attacked = utility.wpsnr(wm, attacked)\n",
    "        log = {\"image\" : img_files[index],\n",
    "                \"attack\" : attack_name,\n",
    "                \"param\" : usd,\n",
    "                \"wpsnr\" : wpsnr_attacked,\n",
    "                \"detection\" : detected}\n",
    "        history.append(log)\n",
    "        if detected == 0:\n",
    "            total += wpsnr_attacked\n",
    "            succ +=1\n",
    "            successful_attacks.append(log)\n",
    "            if wpsnr_attacked > max:\n",
    "                max = wpsnr_attacked\n",
    "            break\n",
    "\n",
    "if succ > 0:                \n",
    "    print(\"Average wpsnr of successful attacks: \", (total/succ))\n",
    "    print(\"Max wpsnr of successful attacks: \", max) \n",
    "# for h in history:\n",
    "#     print(h)   \n",
    "for s in successful_attacks:\n",
    "    print(s) "
   ]
  },
  {
   "cell_type": "code",
   "execution_count": null,
   "metadata": {},
   "outputs": [],
   "source": [
    "progress_bar = tqdm(watermarked, desc = \"Applying blur on 10 images\")\n",
    "history = []\n",
    "successful_attacks = []\n",
    "total = 0\n",
    "succ = 0\n",
    "max = 0\n",
    "\n",
    "for index, wm in enumerate(progress_bar):\n",
    "    for param in np.arange(1, 15, 2):\n",
    "        attacked, attack_name, usd = grt.blur_median(wm, param)\n",
    "        detected = detection.detection(images[index], wm, attacked, alpha, 2)\n",
    "        wpsnr_attacked = utility.wpsnr(wm, attacked)\n",
    "        log = {\"image\" : img_files[index],\n",
    "                \"attack\" : attack_name,\n",
    "                \"param\" : usd,\n",
    "                \"wpsnr\" : wpsnr_attacked,\n",
    "                \"detection\" : detected}\n",
    "        history.append(log)\n",
    "        if detected == 0:\n",
    "            total += wpsnr_attacked\n",
    "            succ +=1\n",
    "            successful_attacks.append(log)\n",
    "            if wpsnr_attacked > max:\n",
    "                max = wpsnr_attacked\n",
    "            break\n",
    "\n",
    "if succ > 0:                \n",
    "    print(\"Average wpsnr of successful attacks: \", (total/succ))\n",
    "    print(\"Max wpsnr of successful attacks: \", max) \n",
    "# for h in history:\n",
    "#     print(h)   \n",
    "for s in successful_attacks:\n",
    "    print(s) "
   ]
  }
 ],
 "metadata": {
  "kernelspec": {
   "display_name": "python38",
   "language": "python",
   "name": "python3"
  },
  "language_info": {
   "codemirror_mode": {
    "name": "ipython",
    "version": 3
   },
   "file_extension": ".py",
   "mimetype": "text/x-python",
   "name": "python",
   "nbconvert_exporter": "python",
   "pygments_lexer": "ipython3",
   "version": "3.8.10"
  }
 },
 "nbformat": 4,
 "nbformat_minor": 2
}
