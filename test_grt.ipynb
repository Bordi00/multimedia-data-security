{
 "cells": [
  {
   "cell_type": "markdown",
   "metadata": {},
   "source": [
    "# Utility functions"
   ]
  },
  {
   "cell_type": "code",
   "execution_count": 75,
   "metadata": {},
   "outputs": [],
   "source": [
    "import os\n",
    "from math import sqrt\n",
    "import numpy as np\n",
    "import cv2\n",
    "import matplotlib\n",
    "import matplotlib.pyplot as plt\n",
    "from PIL import Image\n",
    "from scipy.signal import convolve2d\n",
    "from scipy.ndimage import gaussian_filter\n",
    "from scipy.signal import medfilt\n",
    "import sys\n",
    "sys.path.append(os.path.join(os.getcwd(), 'common'))\n",
    "import utility\n",
    "import random"
   ]
  },
  {
   "cell_type": "code",
   "execution_count": 67,
   "metadata": {},
   "outputs": [],
   "source": [
    "def wpsnr(img1, img2):\n",
    "    img1 = np.float32(img1)/255.0\n",
    "    img2 = np.float32(img2)/255.0\n",
    "    difference = img1-img2\n",
    "    same = not np.any(difference)\n",
    "    if same is True:\n",
    "        return 9999999\n",
    "    w = np.genfromtxt('csf.csv', delimiter=',')\n",
    "    ew = convolve2d(difference, np.rot90(w,2), mode='valid')\n",
    "    decibels = 20.0*np.log10(1.0/sqrt(np.mean(np.mean(ew**2))))\n",
    "    return decibels"
   ]
  },
  {
   "cell_type": "markdown",
   "metadata": {},
   "source": [
    "## Edges detection"
   ]
  },
  {
   "cell_type": "code",
   "execution_count": 68,
   "metadata": {},
   "outputs": [],
   "source": [
    "\n",
    "def sobel_edges(img):\n",
    "  sobelimage=img.copy()\n",
    "  sobelx = cv2.Sobel(sobelimage,cv2.CV_64F,1,0,ksize=3)\n",
    "  sobely = cv2.Sobel(sobelimage,cv2.CV_64F,0,1,ksize=3)\n",
    "  magnitude = np.sqrt(sobelx**2 + sobely**2)\n",
    "  magnitude = cv2.convertScaleAbs(magnitude)\n",
    "  _, thresholded = cv2.threshold(magnitude, 100, 255, cv2.THRESH_BINARY)\n",
    "  return thresholded\n",
    "  \n",
    "def canny_edges(img):\n",
    "  th1=30\n",
    "  th2=60\n",
    "  d=2\n",
    "  edgeresult=img.copy()\n",
    "  edgeresult = cv2.GaussianBlur(edgeresult, (2*d+1, 2*d+1), -1)[d:-d,d:-d]\n",
    "  edgeresult = edgeresult.astype(np.uint8)\n",
    "  edges = cv2.Canny(edgeresult, th1, th2)\n",
    "  return edges"
   ]
  },
  {
   "cell_type": "markdown",
   "metadata": {},
   "source": [
    "## Basic attack functions"
   ]
  },
  {
   "cell_type": "code",
   "execution_count": 69,
   "metadata": {},
   "outputs": [],
   "source": [
    "def blur(img, sigma):\n",
    "  attacked = gaussian_filter(img, sigma)\n",
    "  return attacked\n",
    "\n",
    "def median(img, sigma):\n",
    "  attacked = medfilt(img, sigma)\n",
    "  return attacked\n",
    "\n",
    "def awgn(img, std, seed):\n",
    "  mean = 0.0\n",
    "  np.random.seed(seed)\n",
    "  attacked = img + np.random.normal(mean, std, img.shape)\n",
    "  attacked = np.clip(attacked, 0, 255)\n",
    "  return attacked"
   ]
  },
  {
   "cell_type": "markdown",
   "metadata": {},
   "source": [
    "# Edge-preserving blur"
   ]
  },
  {
   "cell_type": "code",
   "execution_count": 70,
   "metadata": {},
   "outputs": [],
   "source": [
    "def edge_preserving_blur(img, sigma, edge_func, blur_func):\n",
    "  edges = edge_func(img)\n",
    "  edges = edges / edges.max()\n",
    "  edges = cv2.resize(edges, (img.shape[1], img.shape[0]))\n",
    "  blurred_img = blur_func(img, sigma)\n",
    "  attacked = edges * img + (1 - edges) * blurred_img\n",
    "  return (attacked, 'Edge-preserving blur', '')"
   ]
  },
  {
   "cell_type": "markdown",
   "metadata": {},
   "source": [
    "# AWGN on edges"
   ]
  },
  {
   "cell_type": "code",
   "execution_count": 71,
   "metadata": {},
   "outputs": [],
   "source": [
    "def edge_awgn(img, std, seed, edge_func):\n",
    "    attacked = img.copy()\n",
    "    edges_results = img.copy()\n",
    "    global_awgn = awgn(img, std, seed)\n",
    "    edges = edge_func(img)\n",
    "    edges = edges / edges.max()\n",
    "    edges = cv2.resize(edges, (img.shape[1], img.shape[0]))\n",
    "    edges_results[edges > 0] = [255]\n",
    "    attacked[edges > 0] = global_awgn[edges > 0] \n",
    "    return (attacked, 'Awgn on edges', '')"
   ]
  },
  {
   "cell_type": "markdown",
   "metadata": {},
   "source": [
    "# Plot images and check wpsnr"
   ]
  },
  {
   "cell_type": "code",
   "execution_count": 72,
   "metadata": {},
   "outputs": [],
   "source": [
    "#original = cv2.imread('lena_grey.bmp', 0)\n",
    "#\n",
    "#attack1 = edge_awgn(original, 10, 100, canny_edges)\n",
    "#attack2 = edge_preserving_blur(original, [3,3], sobel_edges, median)\n",
    "#attack3 = edge_awgn(attack2.copy(), 10, 100, canny_edges)\n",
    "#\n",
    "#utility.visualize_images_with_desc([attack1, attack2, attack3],[str(wpsnr(original, attack1)), str(wpsnr(original, attack2)), str(wpsnr(original, attack3))])"
   ]
  },
  {
   "cell_type": "code",
   "execution_count": null,
   "metadata": {},
   "outputs": [],
   "source": [
    "attack_list = [\n",
    "    lambda img: edge_preserving_blur(img, [3,3], sobel_edges, blur),\n",
    "    lambda img: edge_preserving_blur(img, [3,3], sobel_edges, median),\n",
    "    lambda img: edge_preserving_blur(img, [3,3], canny_edges, blur),\n",
    "    lambda img: edge_preserving_blur(img, [3,3], canny_edges, median),\n",
    "    \n",
    "    lambda img: edge_awgn(img, random.randint(10,100), random.randint(10,100), sobel_edges),\n",
    "    lambda img: edge_awgn(img, random.randint(10,100), random.randint(10,100), canny_edges),\n",
    "    \n",
    "    lambda img: edge_awgn(edge_preserving_blur(img, [3,3], sobel_edges, blur)[0], random.randint(10,100), random.randint(10,100), sobel_edges),\n",
    "    lambda img: edge_awgn(edge_preserving_blur(img, [3,3], sobel_edges, median)[0], random.randint(10,100), random.randint(10,100), sobel_edges),\n",
    "    lambda img: edge_awgn(edge_preserving_blur(img, [3,3], canny_edges, blur)[0], random.randint(10,100), random.randint(10,100), sobel_edges),\n",
    "    lambda img: edge_awgn(edge_preserving_blur(img, [3,3], canny_edges, median)[0], random.randint(10,100), random.randint(10,100), sobel_edges),\n",
    "    \n",
    "    lambda img: edge_awgn(edge_preserving_blur(img, [3,3], sobel_edges, blur)[0], random.randint(10,100), random.randint(10,100), canny_edges),\n",
    "    lambda img: edge_awgn(edge_preserving_blur(img, [3,3], sobel_edges, median)[0], random.randint(10,100), random.randint(10,100), canny_edges),\n",
    "    lambda img: edge_awgn(edge_preserving_blur(img, [3,3], canny_edges, blur)[0], random.randint(10,100), random.randint(10,100), canny_edges),\n",
    "    lambda img: edge_awgn(edge_preserving_blur(img, [3,3], canny_edges, median)[0], random.randint(10,100), random.randint(10,100), canny_edges),\n",
    "]"
   ]
  }
 ],
 "metadata": {
  "kernelspec": {
   "display_name": "python38",
   "language": "python",
   "name": "python3"
  },
  "language_info": {
   "codemirror_mode": {
    "name": "ipython",
    "version": 3
   },
   "file_extension": ".py",
   "mimetype": "text/x-python",
   "name": "python",
   "nbconvert_exporter": "python",
   "pygments_lexer": "ipython3",
   "version": "3.8.10"
  }
 },
 "nbformat": 4,
 "nbformat_minor": 2
}
