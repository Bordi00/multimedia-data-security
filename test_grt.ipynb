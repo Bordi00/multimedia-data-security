{
 "cells": [
  {
   "cell_type": "markdown",
   "metadata": {},
   "source": [
    "### Imports and utility"
   ]
  },
  {
   "cell_type": "code",
   "execution_count": 14,
   "metadata": {},
   "outputs": [
    {
     "data": {
      "text/plain": [
       "<module 'grt' from 'c:\\\\Users\\\\Utente\\\\Documents\\\\Università\\\\Master\\\\MultimediaDataSecurity\\\\CTM\\\\multimedia-data-security\\\\common\\\\grt.py'>"
      ]
     },
     "execution_count": 14,
     "metadata": {},
     "output_type": "execute_result"
    }
   ],
   "source": [
    "# Standard library imports\n",
    "import os\n",
    "import sys\n",
    "import importlib\n",
    "import numpy as np\n",
    "import random\n",
    "import cv2\n",
    "from tqdm import tqdm\n",
    "\n",
    "# Add project-specific paths\n",
    "sys.path.append(os.path.join(os.getcwd(), 'common'))\n",
    "\n",
    "# Import custom modules\n",
    "import utility\n",
    "import embedding\n",
    "import detection\n",
    "import grt\n",
    "\n",
    "# Reload module for updates\n",
    "importlib.reload(utility)\n",
    "importlib.reload(embedding)\n",
    "importlib.reload(detection)\n",
    "importlib.reload(grt)"
   ]
  },
  {
   "cell_type": "code",
   "execution_count": 2,
   "metadata": {},
   "outputs": [],
   "source": [
    "def robustness(wpsnr):\n",
    "    if wpsnr >= 53:\n",
    "        points = 0\n",
    "    elif wpsnr >= 50:\n",
    "        points = 1\n",
    "    elif wpsnr >= 47:\n",
    "        points = 2\n",
    "    elif wpsnr >= 44:\n",
    "        points = 3\n",
    "    elif wpsnr >= 41:\n",
    "        points = 4\n",
    "    elif wpsnr >= 38:\n",
    "        points = 5\n",
    "    else:\n",
    "        points = 6\n",
    "    return points\n",
    "\n",
    "def imperceptibility(wpsnr):\n",
    "    if wpsnr >= 66:\n",
    "        points = 6\n",
    "    elif wpsnr >= 62:\n",
    "        points = 5\n",
    "    elif wpsnr >= 58:\n",
    "        points = 4\n",
    "    elif wpsnr >= 54:\n",
    "        points = 3\n",
    "    elif wpsnr >= 50:\n",
    "        points = 2\n",
    "    elif wpsnr >= 35:\n",
    "        points = 1\n",
    "    else:\n",
    "        points = 0\n",
    "    return points"
   ]
  },
  {
   "cell_type": "markdown",
   "metadata": {},
   "source": [
    "### Embedding"
   ]
  },
  {
   "cell_type": "code",
   "execution_count": 3,
   "metadata": {},
   "outputs": [
    {
     "name": "stderr",
     "output_type": "stream",
     "text": [
      "Embedding the watermark in 1 images: 100%|██████████| 1/1 [00:01<00:00,  1.47s/it]"
     ]
    },
    {
     "name": "stdout",
     "output_type": "stream",
     "text": [
      "\n",
      "Average wpsnr: 71.7525091057041 --> 6 imperceptibility points\n",
      "Min wpsnr: 71.7525091057041 --> 6 imperceptibility points\n"
     ]
    },
    {
     "name": "stderr",
     "output_type": "stream",
     "text": [
      "\n"
     ]
    }
   ],
   "source": [
    "N = 1\n",
    "images = []\n",
    "watermarked = []\n",
    "alpha = 0.48\n",
    "max_layer = 1\n",
    "mask = 2\n",
    "avg = 0\n",
    "min = 9999999999\n",
    "\n",
    "# Randomly select N images\n",
    "img_folder = 'sample_imgs'\n",
    "img_files =  [f for f in os.listdir(img_folder) if f.endswith(('.bmp'))]\n",
    "img_files = random.sample(img_files, N)\n",
    "for file in img_files:\n",
    "    img_path = os.path.join(img_folder, file)\n",
    "    images.append(cv2.imread(img_path, 0))\n",
    "images = np.array(images)\n",
    "\n",
    "mark = np.load('ammhackati.npy')\n",
    "   \n",
    "progress_bar = tqdm(images, desc = \"Embedding the watermark in \" + str(N) + \" images\")\n",
    "for index, img in enumerate(progress_bar):\n",
    "    watermarked.append(embedding.embedding(img, mark, alpha, max_layer, mask))\n",
    "    wpsnr = utility.wpsnr(img, watermarked[index])\n",
    "    avg += wpsnr\n",
    "    if wpsnr < min:\n",
    "        min = wpsnr\n",
    "        \n",
    "avg = avg / N\n",
    "print(\"\\nAverage wpsnr: \" + str(avg) + ' --> ' + str(imperceptibility(avg)) + ' imperceptibility points')\n",
    "print(\"Min wpsnr: \" + str(min) + ' --> ' + str(imperceptibility(min)) + ' imperceptibility points')"
   ]
  },
  {
   "cell_type": "markdown",
   "metadata": {},
   "source": [
    "### Global attacks\n",
    "\n",
    "1. Blur using gaussian filters"
   ]
  },
  {
   "cell_type": "code",
   "execution_count": null,
   "metadata": {},
   "outputs": [],
   "source": [
    "progress_bar = tqdm(watermarked, desc = \"Blurring \" + str(N) + \" images\")\n",
    "history = []\n",
    "successful_attacks = []\n",
    "total = 0\n",
    "succ = 0\n",
    "avg = 0\n",
    "max = 0\n",
    "\n",
    "for index, wm in enumerate(progress_bar):\n",
    "    for sigma in np.arange(0, 5, 0.1, dtype = np.float16):\n",
    "        attacked, attack_name, usd = grt.blur_gauss(wm, sigma)\n",
    "        detected = detection.detection(images[index], wm, attacked, alpha, max_layer, mask)\n",
    "        wpsnr_attacked = utility.wpsnr(wm, attacked)\n",
    "        log = {\"image\" : img_files[index],\n",
    "                \"attack\" : attack_name,\n",
    "                \"param\" : usd,\n",
    "                \"wpsnr\" : wpsnr_attacked,\n",
    "                \"detection\" : detected}\n",
    "        history.append(log)\n",
    "        if detected == 0 and wpsnr >= 35:\n",
    "            total += wpsnr_attacked\n",
    "            succ +=1\n",
    "            successful_attacks.append(log)\n",
    "            if wpsnr_attacked > max:\n",
    "                max = wpsnr_attacked\n",
    "            break\n",
    "\n",
    "if succ > 0:\n",
    "    avg = total/succ\n",
    "    print(\"\\nAverage wpsnr of successful attacks: \" + str(avg) + ' --> ' + str(robustness(avg)) + ' robustness points')\n",
    "    print(\"Max wpsnr of successful attacks: \" + str(max) + ' --> ' + str(robustness(max)) + ' robustness points\\n') \n",
    "else:\n",
    "    print(\"\\nThis attack is not very effective... --> 6 robustness points\\n\")\n",
    " \n",
    "for s in successful_attacks:\n",
    "    print(s) "
   ]
  },
  {
   "cell_type": "markdown",
   "metadata": {},
   "source": [
    "2. Blur using median filters"
   ]
  },
  {
   "cell_type": "code",
   "execution_count": null,
   "metadata": {},
   "outputs": [],
   "source": [
    "progress_bar = tqdm(watermarked, desc = \"Blurring \" + str(N) + \" images\")\n",
    "history = []\n",
    "successful_attacks = []\n",
    "total = 0\n",
    "succ = 0\n",
    "avg = 0\n",
    "max = 0\n",
    "\n",
    "for index, wm in enumerate(progress_bar):\n",
    "    for height in np.arange(1, 15, 2):\n",
    "        for width in np.arange(1, 15, 2):\n",
    "            attacked, attack_name, usd = grt.blur_median(wm, [height, width])\n",
    "            detected = detection.detection(images[index], wm, attacked, alpha, max_layer, mask)\n",
    "            wpsnr_attacked = utility.wpsnr(wm, attacked)\n",
    "            log = {\"image\" : img_files[index],\n",
    "                    \"attack\" : attack_name,\n",
    "                    \"param\" : usd,\n",
    "                    \"wpsnr\" : wpsnr_attacked,\n",
    "                    \"detection\" : detected}\n",
    "            history.append(log)\n",
    "            if detected == 0 and wpsnr >= 35:\n",
    "                total += wpsnr_attacked\n",
    "                succ +=1\n",
    "                successful_attacks.append(log)\n",
    "                if wpsnr_attacked > max:\n",
    "                    max = wpsnr_attacked\n",
    "                break\n",
    "\n",
    "if succ > 0:\n",
    "    avg = total/succ\n",
    "    print(\"\\nAverage wpsnr of successful attacks: \" + str(avg) + ' --> ' + str(robustness(avg)) + ' robustness points')\n",
    "    print(\"Max wpsnr of successful attacks: \" + str(max) + ' --> ' + str(robustness(max)) + ' robustness points\\n') \n",
    "else:\n",
    "    print(\"\\nThis attack is not very effective... --> 6 robustness points\\n\")\n",
    "\n",
    "for s in successful_attacks:\n",
    "    print(s) "
   ]
  },
  {
   "cell_type": "markdown",
   "metadata": {},
   "source": [
    "3. Adding white gaussian noise (AWGN)"
   ]
  },
  {
   "cell_type": "code",
   "execution_count": null,
   "metadata": {},
   "outputs": [],
   "source": [
    "progress_bar = tqdm(watermarked, desc = \"Applying AWGN to \" + str(N) + \" images\")\n",
    "history = []\n",
    "successful_attacks = []\n",
    "total = 0\n",
    "succ = 0\n",
    "avg = 0\n",
    "max = 0\n",
    "\n",
    "for index, wm in enumerate(progress_bar):\n",
    "    for std in range(0, 110, 10):\n",
    "        attacked, attack_name, usd = grt.awgn(wm, 0, std, 100)\n",
    "        detected = detection.detection(images[index], wm, attacked, alpha, max_layer, mask)\n",
    "        wpsnr_attacked = utility.wpsnr(wm, attacked)\n",
    "        log = {\"image\" : img_files[index],\n",
    "                \"attack\" : attack_name,\n",
    "                \"param\" : usd,\n",
    "                \"wpsnr\" : wpsnr_attacked,\n",
    "                \"detection\" : detected}\n",
    "        history.append(log)\n",
    "        if detected == 0 and wpsnr >= 35:\n",
    "            total += wpsnr_attacked\n",
    "            succ +=1\n",
    "            successful_attacks.append(log)\n",
    "            if wpsnr_attacked > max:\n",
    "                max = wpsnr_attacked\n",
    "            break\n",
    "\n",
    "if succ > 0:\n",
    "    avg = total/succ\n",
    "    print(\"\\nAverage wpsnr of successful attacks: \" + str(avg) + ' --> ' + str(robustness(avg)) + ' robustness points')\n",
    "    print(\"Max wpsnr of successful attacks: \" + str(max) + ' --> ' + str(robustness(max)) + ' robustness points\\n') \n",
    "else:\n",
    "    print(\"\\nThis attack is not very effective... --> 6 robustness points\\n\")\n",
    " \n",
    "for s in successful_attacks:\n",
    "    print(s)"
   ]
  },
  {
   "cell_type": "markdown",
   "metadata": {},
   "source": [
    "4. JPEG compression"
   ]
  },
  {
   "cell_type": "code",
   "execution_count": null,
   "metadata": {},
   "outputs": [],
   "source": [
    "progress_bar = tqdm(watermarked, desc = \"Compressing \" + str(N) + \" images\")\n",
    "history = []\n",
    "successful_attacks = []\n",
    "total = 0\n",
    "succ = 0\n",
    "avg = 0\n",
    "max = 0\n",
    "\n",
    "for index, wm in enumerate(progress_bar):\n",
    "    for qf in range(0, 100, 2):\n",
    "        attacked, attack_name, usd = grt.jpeg_compression(wm, (100 - qf))\n",
    "        detected = detection.detection(images[index], wm, attacked, alpha, max_layer, mask)\n",
    "        wpsnr_attacked = utility.wpsnr(wm, attacked)\n",
    "        log = {\"image\" : img_files[index],\n",
    "                \"attack\" : attack_name,\n",
    "                \"param\" : usd,\n",
    "                \"wpsnr\" : wpsnr_attacked,\n",
    "                \"detection\" : detected}\n",
    "        history.append(log)\n",
    "        if detected == 0 and wpsnr >= 35:\n",
    "            total += wpsnr_attacked\n",
    "            succ +=1\n",
    "            successful_attacks.append(log)\n",
    "            if wpsnr_attacked > max:\n",
    "                max = wpsnr_attacked\n",
    "            break\n",
    "\n",
    "if succ > 0:\n",
    "    avg = total/succ\n",
    "    print(\"\\nAverage wpsnr of successful attacks: \" + str(avg) + ' --> ' + str(robustness(avg)) + ' robustness points')\n",
    "    print(\"Max wpsnr of successful attacks: \" + str(max) + ' --> ' + str(robustness(max)) + ' robustness points\\n') \n",
    "else:\n",
    "    print(\"\\nThis attack is not very effective... --> 6 robustness points\\n\")\n",
    "\n",
    "for s in successful_attacks:\n",
    "    print(s)"
   ]
  },
  {
   "cell_type": "markdown",
   "metadata": {},
   "source": [
    "5. Resizing"
   ]
  },
  {
   "cell_type": "code",
   "execution_count": null,
   "metadata": {},
   "outputs": [],
   "source": [
    "progress_bar = tqdm(watermarked, desc = \"Resizing \" + str(N) + \" images\")\n",
    "history = []\n",
    "successful_attacks = []\n",
    "total = 0\n",
    "succ = 0\n",
    "avg = 0\n",
    "max = 0\n",
    "\n",
    "for index, wm in enumerate(progress_bar):\n",
    "    for scale in np.arange(0, 1, 0.02, dtype = np.float16):\n",
    "        attacked, attack_name, usd = grt.resize(wm, (1 - scale))\n",
    "        detected = detection.detection(images[index], wm, attacked, alpha, max_layer, mask)\n",
    "        wpsnr_attacked = utility.wpsnr(wm, attacked)\n",
    "        log = {\"image\" : img_files[index],\n",
    "                \"attack\" : attack_name,\n",
    "                \"param\" : usd,\n",
    "                \"wpsnr\" : wpsnr_attacked,\n",
    "                \"detection\" : detected}\n",
    "        history.append(log)\n",
    "        if detected == 0 and wpsnr >= 35:\n",
    "            total += wpsnr_attacked\n",
    "            succ +=1\n",
    "            successful_attacks.append(log)\n",
    "            if wpsnr_attacked > max:\n",
    "                max = wpsnr_attacked\n",
    "            break\n",
    "\n",
    "if succ > 0:\n",
    "    avg = total/succ\n",
    "    print(\"\\nAverage wpsnr of successful attacks: \" + str(avg) + ' --> ' + str(robustness(avg)) + ' robustness points')\n",
    "    print(\"Max wpsnr of successful attacks: \" + str(max) + ' --> ' + str(robustness(max)) + ' robustness points\\n') \n",
    "else:\n",
    "    print(\"\\nThis attack is not very effective... --> 6 robustness points\\n\")\n",
    " \n",
    "for s in successful_attacks:\n",
    "    print(s) "
   ]
  },
  {
   "cell_type": "markdown",
   "metadata": {},
   "source": [
    "6. Sharpening"
   ]
  },
  {
   "cell_type": "code",
   "execution_count": null,
   "metadata": {},
   "outputs": [],
   "source": [
    "progress_bar = tqdm(watermarked, desc = \"Sharpening \" + str(N) + \" images\")\n",
    "history = []\n",
    "successful_attacks = []\n",
    "total = 0\n",
    "succ = 0\n",
    "avg = 0\n",
    "max = 0\n",
    "\n",
    "for index, wm in enumerate(progress_bar):\n",
    "    for sigma in np.arange(0, 5, 0.2, dtype = np.float16):\n",
    "        for a in np.arange(0, 1, 0.1, dtype = np.float16):\n",
    "            attacked, attack_name, usd = grt.sharp(wm, sigma, a)\n",
    "            detected = detection.detection(images[index], wm, attacked, alpha, max_layer, mask)\n",
    "            wpsnr_attacked = utility.wpsnr(wm, attacked)\n",
    "            log = {\"image\" : img_files[index],\n",
    "                    \"attack\" : attack_name,\n",
    "                    \"param\" : usd,\n",
    "                    \"wpsnr\" : wpsnr_attacked,\n",
    "                    \"detection\" : detected}\n",
    "            history.append(log)\n",
    "            if detected == 0 and wpsnr >= 35:\n",
    "                total += wpsnr_attacked\n",
    "                succ +=1\n",
    "                successful_attacks.append(log)\n",
    "                if wpsnr_attacked > max:\n",
    "                    max = wpsnr_attacked\n",
    "                break\n",
    "\n",
    "if succ > 0:\n",
    "    avg = total/succ\n",
    "    print(\"\\nAverage wpsnr of successful attacks: \" + str(avg) + ' --> ' + str(robustness(avg)) + ' robustness points')\n",
    "    print(\"Max wpsnr of successful attacks: \" + str(max) + ' --> ' + str(robustness(max)) + ' robustness points\\n') \n",
    "else:\n",
    "    print(\"\\nThis attack is not very effective... --> 6 robustness points\\n\")\n",
    " \n",
    "for s in successful_attacks:\n",
    "    print(s) "
   ]
  },
  {
   "cell_type": "markdown",
   "metadata": {},
   "source": [
    "### Localized attacks\n",
    "\n",
    "1. Blur edges using gaussian filters "
   ]
  },
  {
   "cell_type": "code",
   "execution_count": null,
   "metadata": {},
   "outputs": [],
   "source": [
    "progress_bar = tqdm(watermarked, desc = \"Blurring edges of \" + str(N) + \" images\")\n",
    "history = []\n",
    "successful_attacks = []\n",
    "total = 0\n",
    "succ = 0\n",
    "avg = 0\n",
    "max = 0\n",
    "\n",
    "for index, wm in enumerate(progress_bar):\n",
    "    for edge_func in range(0, 2):\n",
    "        for sigma in np.arange(0, 5, 0.1, dtype = np.float16):        \n",
    "            attacked, attack_name, usd = grt.gauss_edge(wm, sigma, edge_func)\n",
    "            detected = detection.detection(images[index], wm, attacked, alpha, max_layer, mask)\n",
    "            wpsnr_attacked = utility.wpsnr(wm, attacked)\n",
    "            log = {\"image\" : img_files[index],\n",
    "                    \"attack\" : attack_name,\n",
    "                    \"param\" : usd,\n",
    "                    \"wpsnr\" : wpsnr_attacked,\n",
    "                    \"detection\" : detected}\n",
    "            history.append(log)\n",
    "            if detected == 0 and wpsnr >= 35:\n",
    "                total += wpsnr_attacked\n",
    "                succ +=1\n",
    "                successful_attacks.append(log)\n",
    "                if wpsnr_attacked > max:\n",
    "                    max = wpsnr_attacked\n",
    "                break\n",
    "\n",
    "if succ > 0:\n",
    "    avg = total/succ\n",
    "    print(\"\\nAverage wpsnr of successful attacks: \" + str(avg) + ' --> ' + str(robustness(avg)) + ' robustness points')\n",
    "    print(\"Max wpsnr of successful attacks: \" + str(max) + ' --> ' + str(robustness(max)) + ' robustness points\\n') \n",
    "else:\n",
    "    print(\"\\nThis attack is not very effective... --> 6 robustness points\\n\")\n",
    " \n",
    "for s in successful_attacks:\n",
    "    print(s) "
   ]
  },
  {
   "cell_type": "markdown",
   "metadata": {},
   "source": [
    "2. Blur edges using median filters"
   ]
  },
  {
   "cell_type": "code",
   "execution_count": null,
   "metadata": {},
   "outputs": [],
   "source": [
    "progress_bar = tqdm(watermarked, desc = \"Blurring edges of \" + str(N) + \" images\")\n",
    "history = []\n",
    "successful_attacks = []\n",
    "total = 0\n",
    "succ = 0\n",
    "avg = 0\n",
    "max = 0\n",
    "\n",
    "for index, wm in enumerate(progress_bar):\n",
    "    for edge_func in range(0, 2):\n",
    "        for height in np.arange(1, 15, 2):\n",
    "            for width in np.arange(1, 15, 2):       \n",
    "                attacked, attack_name, usd = grt.median_edge(wm, [height, width], edge_func)\n",
    "                detected = detection.detection(images[index], wm, attacked, alpha, max_layer, mask)\n",
    "                wpsnr_attacked = utility.wpsnr(wm, attacked)\n",
    "                log = {\"image\" : img_files[index],\n",
    "                        \"attack\" : attack_name,\n",
    "                        \"param\" : usd,\n",
    "                        \"wpsnr\" : wpsnr_attacked,\n",
    "                        \"detection\" : detected}\n",
    "                history.append(log)\n",
    "                if detected == 0 and wpsnr >= 35:\n",
    "                    total += wpsnr_attacked\n",
    "                    succ +=1\n",
    "                    successful_attacks.append(log)\n",
    "                    if wpsnr_attacked > max:\n",
    "                        max = wpsnr_attacked\n",
    "                    break\n",
    "\n",
    "if succ > 0:\n",
    "    avg = total/succ\n",
    "    print(\"\\nAverage wpsnr of successful attacks: \" + str(avg) + ' --> ' + str(robustness(avg)) + ' robustness points')\n",
    "    print(\"Max wpsnr of successful attacks: \" + str(max) + ' --> ' + str(robustness(max)) + ' robustness points\\n') \n",
    "else:\n",
    "    print(\"\\nThis attack is not very effective... --> 6 robustness points\\n\")\n",
    " \n",
    "for s in successful_attacks:\n",
    "    print(s) "
   ]
  },
  {
   "cell_type": "markdown",
   "metadata": {},
   "source": [
    "3. Blur flat regions using gaussian filters"
   ]
  },
  {
   "cell_type": "code",
   "execution_count": null,
   "metadata": {},
   "outputs": [],
   "source": [
    "progress_bar = tqdm(watermarked, desc = \"Blurring edges of \" + str(N) + \" images\")\n",
    "history = []\n",
    "successful_attacks = []\n",
    "total = 0\n",
    "succ = 0\n",
    "avg = 0\n",
    "max = 0\n",
    "\n",
    "for index, wm in enumerate(progress_bar):\n",
    "    for edge_func in range(0, 2):\n",
    "        for sigma in np.arange(0, 5, 0.1, dtype = np.float16):        \n",
    "            attacked, attack_name, usd = grt.gauss_flat(wm, sigma, edge_func)\n",
    "            detected = detection.detection(images[index], wm, attacked, alpha, max_layer, mask)\n",
    "            wpsnr_attacked = utility.wpsnr(wm, attacked)\n",
    "            log = {\"image\" : img_files[index],\n",
    "                    \"attack\" : attack_name,\n",
    "                    \"param\" : usd,\n",
    "                    \"wpsnr\" : wpsnr_attacked,\n",
    "                    \"detection\" : detected}\n",
    "            history.append(log)\n",
    "            if detected == 0 and wpsnr >= 35:\n",
    "                total += wpsnr_attacked\n",
    "                succ +=1\n",
    "                successful_attacks.append(log)\n",
    "                if wpsnr_attacked > max:\n",
    "                    max = wpsnr_attacked\n",
    "                break\n",
    "\n",
    "if succ > 0:\n",
    "    avg = total/succ\n",
    "    print(\"\\nAverage wpsnr of successful attacks: \" + str(avg) + ' --> ' + str(robustness(avg)) + ' robustness points')\n",
    "    print(\"Max wpsnr of successful attacks: \" + str(max) + ' --> ' + str(robustness(max)) + ' robustness points\\n') \n",
    "else:\n",
    "    print(\"\\nThis attack is not very effective... --> 6 robustness points\\n\")\n",
    " \n",
    "for s in successful_attacks:\n",
    "    print(s) "
   ]
  },
  {
   "cell_type": "markdown",
   "metadata": {},
   "source": [
    "4. Blur flat regions using median filters"
   ]
  },
  {
   "cell_type": "code",
   "execution_count": null,
   "metadata": {},
   "outputs": [],
   "source": [
    "progress_bar = tqdm(watermarked, desc = \"Blurring edges of \" + str(N) + \" images\")\n",
    "history = []\n",
    "successful_attacks = []\n",
    "total = 0\n",
    "succ = 0\n",
    "avg = 0\n",
    "max = 0\n",
    "\n",
    "for index, wm in enumerate(progress_bar):\n",
    "    for edge_func in range(0, 2):\n",
    "        for height in np.arange(1, 15, 2):\n",
    "            for width in np.arange(1, 15, 2):       \n",
    "                attacked, attack_name, usd = grt.median_flat(wm, [height, width], edge_func)\n",
    "                detected = detection.detection(images[index], wm, attacked, alpha, max_layer, mask)\n",
    "                wpsnr_attacked = utility.wpsnr(wm, attacked)\n",
    "                log = {\"image\" : img_files[index],\n",
    "                        \"attack\" : attack_name,\n",
    "                        \"param\" : usd,\n",
    "                        \"wpsnr\" : wpsnr_attacked,\n",
    "                        \"detection\" : detected}\n",
    "                history.append(log)\n",
    "                if detected == 0 and wpsnr >= 35:\n",
    "                    total += wpsnr_attacked\n",
    "                    succ +=1\n",
    "                    successful_attacks.append(log)\n",
    "                    if wpsnr_attacked > max:\n",
    "                        max = wpsnr_attacked\n",
    "                    break\n",
    "\n",
    "if succ > 0:\n",
    "    avg = total/succ\n",
    "    print(\"\\nAverage wpsnr of successful attacks: \" + str(avg) + ' --> ' + str(robustness(avg)) + ' robustness points')\n",
    "    print(\"Max wpsnr of successful attacks: \" + str(max) + ' --> ' + str(robustness(max)) + ' robustness points\\n') \n",
    "else:\n",
    "    print(\"\\nThis attack is not very effective... --> 6 robustness points\\n\")\n",
    " \n",
    "for s in successful_attacks:\n",
    "    print(s) "
   ]
  },
  {
   "cell_type": "markdown",
   "metadata": {},
   "source": [
    "5. Adding white gaussian noise (AWGN) to edges"
   ]
  },
  {
   "cell_type": "code",
   "execution_count": null,
   "metadata": {},
   "outputs": [],
   "source": [
    "progress_bar = tqdm(watermarked, desc = \"Applying AWGN to edges of \" + str(N) + \" images\")\n",
    "history = []\n",
    "successful_attacks = []\n",
    "total = 0\n",
    "succ = 0\n",
    "avg = 0\n",
    "max = 0\n",
    "\n",
    "for index, wm in enumerate(progress_bar):\n",
    "    for edge_func in range(0, 2):\n",
    "        for std in range(0, 110, 10):      \n",
    "            attacked, attack_name, usd = grt.awgn_edge(wm, 0, std, 100, edge_func)\n",
    "            detected = detection.detection(images[index], wm, attacked, alpha, max_layer, mask)\n",
    "            wpsnr_attacked = utility.wpsnr(wm, attacked)\n",
    "            log = {\"image\" : img_files[index],\n",
    "                    \"attack\" : attack_name,\n",
    "                    \"param\" : usd,\n",
    "                    \"wpsnr\" : wpsnr_attacked,\n",
    "                    \"detection\" : detected}\n",
    "            history.append(log)\n",
    "            if detected == 0 and wpsnr >= 35:\n",
    "                total += wpsnr_attacked\n",
    "                succ +=1\n",
    "                successful_attacks.append(log)\n",
    "                if wpsnr_attacked > max:\n",
    "                    max = wpsnr_attacked\n",
    "                break\n",
    "\n",
    "if succ > 0:\n",
    "    avg = total/succ\n",
    "    print(\"\\nAverage wpsnr of successful attacks: \" + str(avg) + ' --> ' + str(robustness(avg)) + ' robustness points')\n",
    "    print(\"Max wpsnr of successful attacks: \" + str(max) + ' --> ' + str(robustness(max)) + ' robustness points\\n') \n",
    "else:\n",
    "    print(\"\\nThis attack is not very effective... --> 6 robustness points\\n\")\n",
    " \n",
    "for s in successful_attacks:\n",
    "    print(s) "
   ]
  },
  {
   "cell_type": "markdown",
   "metadata": {},
   "source": [
    "### Combo attacks\n",
    "\n",
    "1. Resize a JPEG-compressed watermarked image"
   ]
  },
  {
   "cell_type": "code",
   "execution_count": null,
   "metadata": {},
   "outputs": [],
   "source": [
    "attack_name = \"resize_jpeg\"\n",
    "usd = {'qf':55, 'scale':1}\n",
    "attacked = grt.attack(watermarked[0], attack_name, usd)\n",
    "detected = detection.detection(images[0], watermarked[0], attacked, alpha, max_layer, mask)\n",
    "wpsnr_attacked = utility.wpsnr(watermarked[0], attacked)\n",
    "log = {\"image\" : img_files[0],\n",
    "                    \"attack\" : attack_name,\n",
    "                    \"param\" : usd,\n",
    "                    \"wpsnr\" : wpsnr_attacked,\n",
    "                    \"detection\" : detected}\n",
    "\n",
    "print(log)"
   ]
  },
  {
   "cell_type": "markdown",
   "metadata": {},
   "source": [
    "2. Blur a JPEG-compressed watermarked image using gaussian filters"
   ]
  },
  {
   "cell_type": "code",
   "execution_count": null,
   "metadata": {},
   "outputs": [],
   "source": [
    "attack_name = \"gauss_jpeg\"\n",
    "usd = {'qf':55, 'sigma':0}\n",
    "attacked = grt.attack(watermarked[0], attack_name, usd)\n",
    "detected = detection.detection(images[0], watermarked[0], attacked, alpha, max_layer, mask)\n",
    "wpsnr_attacked = utility.wpsnr(watermarked[0], attacked)\n",
    "log = {\"image\" : img_files[0],\n",
    "                    \"attack\" : attack_name,\n",
    "                    \"param\" : usd,\n",
    "                    \"wpsnr\" : wpsnr_attacked,\n",
    "                    \"detection\" : detected}\n",
    "\n",
    "print(log)"
   ]
  },
  {
   "cell_type": "markdown",
   "metadata": {},
   "source": [
    "3. Blur a JPEG-compressed watermarked image using median filters"
   ]
  },
  {
   "cell_type": "code",
   "execution_count": null,
   "metadata": {},
   "outputs": [],
   "source": [
    "attack_name = \"median_jpeg\"\n",
    "usd = {'qf':55, 'size':[1,1]}\n",
    "attacked = grt.attack(watermarked[0], attack_name, usd)\n",
    "detected = detection.detection(images[0], watermarked[0], attacked, alpha, max_layer, mask)\n",
    "wpsnr_attacked = utility.wpsnr(watermarked[0], attacked)\n",
    "log = {\"image\" : img_files[0],\n",
    "                    \"attack\" : attack_name,\n",
    "                    \"param\" : usd,\n",
    "                    \"wpsnr\" : wpsnr_attacked,\n",
    "                    \"detection\" : detected}\n",
    "\n",
    "print(log)"
   ]
  },
  {
   "cell_type": "markdown",
   "metadata": {},
   "source": [
    "4. Blur after AWGN using gaussian filters"
   ]
  },
  {
   "cell_type": "code",
   "execution_count": null,
   "metadata": {},
   "outputs": [],
   "source": [
    "attack_name = \"gauss_awgn\"\n",
    "usd = {'mean':0, 'std':20, 'seed':100, 'sigma':0.78}\n",
    "attacked = grt.attack(watermarked[0], attack_name, usd)\n",
    "detected = detection.detection(images[0], watermarked[0], attacked, alpha, max_layer, mask)\n",
    "wpsnr_attacked = utility.wpsnr(watermarked[0], attacked)\n",
    "log = {\"image\" : img_files[0],\n",
    "                    \"attack\" : attack_name,\n",
    "                    \"param\" : usd,\n",
    "                    \"wpsnr\" : wpsnr_attacked,\n",
    "                    \"detection\" : detected}\n",
    "\n",
    "print(log)"
   ]
  },
  {
   "cell_type": "markdown",
   "metadata": {},
   "source": [
    "5. Blur after AWGN using median filters"
   ]
  },
  {
   "cell_type": "code",
   "execution_count": null,
   "metadata": {},
   "outputs": [],
   "source": [
    "attack_name = \"median_awgn\"\n",
    "usd = {'mean':0, 'std':20, 'seed':100, 'size':1}\n",
    "attacked = grt.attack(watermarked[0], attack_name, usd)\n",
    "detected = detection.detection(images[0], watermarked[0], attacked, alpha, max_layer, mask)\n",
    "wpsnr_attacked = utility.wpsnr(watermarked[0], attacked)\n",
    "log = {\"image\" : img_files[0],\n",
    "                    \"attack\" : attack_name,\n",
    "                    \"param\" : usd,\n",
    "                    \"wpsnr\" : wpsnr_attacked,\n",
    "                    \"detection\" : detected}\n",
    "\n",
    "print(log)"
   ]
  },
  {
   "cell_type": "markdown",
   "metadata": {},
   "source": [
    "### Testing new attacks"
   ]
  },
  {
   "cell_type": "code",
   "execution_count": 41,
   "metadata": {},
   "outputs": [
    {
     "name": "stdout",
     "output_type": "stream",
     "text": [
      "{'image': '0012.bmp', 'attack': 'gauss_dwt', 'param': {'sigma': [0, 1, 0]}, 'wpsnr': 54.29290487953578, 'detection': 1}\n"
     ]
    }
   ],
   "source": [
    "importlib.reload(grt)\n",
    "\n",
    "attack_name = \"gauss_dwt\"\n",
    "usd = {'sigma':[0,1,0]}\n",
    "attacked = grt.attack(watermarked[0], attack_name, usd)\n",
    "detected = detection.detection(images[0], watermarked[0], attacked, alpha, max_layer, mask)\n",
    "wpsnr_attacked = utility.wpsnr(watermarked[0], attacked)\n",
    "log = {\"image\" : img_files[0],\n",
    "                    \"attack\" : attack_name,\n",
    "                    \"param\" : usd,\n",
    "                    \"wpsnr\" : wpsnr_attacked,\n",
    "                    \"detection\" : detected}\n",
    "\n",
    "print(log)"
   ]
  }
 ],
 "metadata": {
  "kernelspec": {
   "display_name": "python38",
   "language": "python",
   "name": "python3"
  },
  "language_info": {
   "codemirror_mode": {
    "name": "ipython",
    "version": 3
   },
   "file_extension": ".py",
   "mimetype": "text/x-python",
   "name": "python",
   "nbconvert_exporter": "python",
   "pygments_lexer": "ipython3",
   "version": "3.8.10"
  }
 },
 "nbformat": 4,
 "nbformat_minor": 2
}
