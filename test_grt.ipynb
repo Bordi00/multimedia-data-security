{
 "cells": [
  {
   "cell_type": "markdown",
   "metadata": {},
   "source": [
    "### Imports and utility"
   ]
  },
  {
   "cell_type": "code",
   "execution_count": 45,
   "metadata": {},
   "outputs": [
    {
     "data": {
      "text/plain": [
       "<module 'grt' from 'c:\\\\Users\\\\Utente\\\\Documents\\\\Università\\\\Master\\\\MultimediaDataSecurity\\\\CTM\\\\multimedia-data-security\\\\common\\\\grt.py'>"
      ]
     },
     "execution_count": 45,
     "metadata": {},
     "output_type": "execute_result"
    }
   ],
   "source": [
    "# Standard library imports\n",
    "import os\n",
    "import sys\n",
    "import importlib\n",
    "import numpy as np\n",
    "import random\n",
    "import cv2\n",
    "from tqdm import tqdm\n",
    "\n",
    "# Add project-specific paths\n",
    "sys.path.append(os.path.join(os.getcwd(), 'common'))\n",
    "\n",
    "# Import custom modules\n",
    "import utility\n",
    "import embedding\n",
    "import detection\n",
    "import grt\n",
    "\n",
    "# Reload module for updates\n",
    "importlib.reload(utility)\n",
    "importlib.reload(embedding)\n",
    "importlib.reload(detection)\n",
    "importlib.reload(grt)"
   ]
  },
  {
   "cell_type": "code",
   "execution_count": 32,
   "metadata": {},
   "outputs": [],
   "source": [
    "def robustness(wpsnr):\n",
    "    if wpsnr >= 53:\n",
    "        points = 0\n",
    "    elif wpsnr >= 50:\n",
    "        points = 1\n",
    "    elif wpsnr >= 47:\n",
    "        points = 2\n",
    "    elif wpsnr >= 44:\n",
    "        points = 3\n",
    "    elif wpsnr >= 41:\n",
    "        points = 4\n",
    "    elif wpsnr >= 38:\n",
    "        points = 5\n",
    "    else:\n",
    "        points = 6\n",
    "    return points\n",
    "\n",
    "def imperceptibility(wpsnr):\n",
    "    if wpsnr >= 66:\n",
    "        points = 6\n",
    "    elif wpsnr >= 62:\n",
    "        points = 5\n",
    "    elif wpsnr >= 58:\n",
    "        points = 4\n",
    "    elif wpsnr >= 54:\n",
    "        points = 3\n",
    "    elif wpsnr >= 50:\n",
    "        points = 2\n",
    "    elif wpsnr >= 35:\n",
    "        points = 1\n",
    "    else:\n",
    "        points = 0\n",
    "    return points"
   ]
  },
  {
   "cell_type": "markdown",
   "metadata": {},
   "source": [
    "### Embedding"
   ]
  },
  {
   "cell_type": "code",
   "execution_count": 18,
   "metadata": {},
   "outputs": [
    {
     "name": "stderr",
     "output_type": "stream",
     "text": [
      "Embedding the watermark in 2 images: 100%|██████████| 2/2 [00:02<00:00,  1.23s/it]"
     ]
    },
    {
     "name": "stdout",
     "output_type": "stream",
     "text": [
      "\n",
      "Average wpsnr: 62.685427702167466 --> 5 imperceptibility points\n",
      "Min wpsnr: 61.56243603786693 --> 4 imperceptibility points\n"
     ]
    },
    {
     "name": "stderr",
     "output_type": "stream",
     "text": [
      "\n"
     ]
    }
   ],
   "source": [
    "N = 20\n",
    "images = []\n",
    "watermarked = []\n",
    "alpha = 0.48\n",
    "max_layer = 1\n",
    "avg = 0\n",
    "min = 9999999999\n",
    "\n",
    "# Randomly select N images\n",
    "img_folder = 'sample_imgs'\n",
    "img_files =  [f for f in os.listdir(img_folder) if f.endswith(('.bmp'))]\n",
    "img_files = random.sample(img_files, N)\n",
    "for file in img_files:\n",
    "    img_path = os.path.join(img_folder, file)\n",
    "    images.append(cv2.imread(img_path, 0))\n",
    "images = np.array(images)\n",
    "\n",
    "mark = np.load('ammhackati.npy')\n",
    "   \n",
    "progress_bar = tqdm(images, desc = \"Embedding the watermark in \" + str(N) + \" images\")\n",
    "for index, img in enumerate(progress_bar):\n",
    "    watermarked.append(embedding.embedding(img, mark, alpha, max_layer))\n",
    "    wpsnr = utility.wpsnr(img, watermarked[index])\n",
    "    avg += wpsnr\n",
    "    if wpsnr < min:\n",
    "        min = wpsnr\n",
    "        \n",
    "avg = avg / N\n",
    "print(\"\\nAverage wpsnr: \" + str(avg) + ' --> ' + str(imperceptibility(avg)) + ' imperceptibility points')\n",
    "print(\"Min wpsnr: \" + str(min) + ' --> ' + str(imperceptibility(min)) + ' imperceptibility points')"
   ]
  },
  {
   "cell_type": "markdown",
   "metadata": {},
   "source": [
    "### Global attacks\n",
    "\n",
    "1. Blur using gaussian filters"
   ]
  },
  {
   "cell_type": "code",
   "execution_count": 25,
   "metadata": {},
   "outputs": [
    {
     "name": "stderr",
     "output_type": "stream",
     "text": [
      "Blurring 2 images: 100%|██████████| 2/2 [00:18<00:00,  9.17s/it]"
     ]
    },
    {
     "name": "stdout",
     "output_type": "stream",
     "text": [
      "\n",
      "Average wpsnr of successful attacks: 52.497455145670365\n",
      "Max wpsnr of successful attacks: 54.47320746355105 --> 0 robustness points\n",
      "\n",
      "{'image': '0087.bmp', 'attack': 'blur_gauss', 'param': {'sigma': 0.5}, 'wpsnr': 54.47320746355105, 'detection': 0}\n",
      "{'image': '0029.bmp', 'attack': 'blur_gauss', 'param': {'sigma': 0.5}, 'wpsnr': 50.52170282778968, 'detection': 0}\n"
     ]
    },
    {
     "name": "stderr",
     "output_type": "stream",
     "text": [
      "\n"
     ]
    }
   ],
   "source": [
    "progress_bar = tqdm(watermarked, desc = \"Blurring \" + str(N) + \" images\")\n",
    "history = []\n",
    "successful_attacks = []\n",
    "total = 0\n",
    "succ = 0\n",
    "avg = 0\n",
    "max = 0\n",
    "\n",
    "for index, wm in enumerate(progress_bar):\n",
    "    for sigma in np.arange(0, 5, 0.1, dtype = np.float16):\n",
    "        attacked, attack_name, usd = grt.blur_gauss(wm, sigma)\n",
    "        detected = detection.detection(images[index], wm, attacked, alpha, max_layer)\n",
    "        wpsnr_attacked = utility.wpsnr(wm, attacked)\n",
    "        log = {\"image\" : img_files[index],\n",
    "                \"attack\" : attack_name,\n",
    "                \"param\" : usd,\n",
    "                \"wpsnr\" : wpsnr_attacked,\n",
    "                \"detection\" : detected}\n",
    "        history.append(log)\n",
    "        if detected == 0 and wpsnr >= 35:\n",
    "            total += wpsnr_attacked\n",
    "            succ +=1\n",
    "            successful_attacks.append(log)\n",
    "            if wpsnr_attacked > max:\n",
    "                max = wpsnr_attacked\n",
    "            break\n",
    "\n",
    "if succ > 0:\n",
    "    avg = total/succ\n",
    "    print(\"\\nAverage wpsnr of successful attacks: \" + str(avg) + ' --> ' + str(robustness(avg)) + ' robustness points')\n",
    "    print(\"Max wpsnr of successful attacks: \" + str(max) + ' --> ' + str(robustness(max)) + ' robustness points\\n') \n",
    "else:\n",
    "    print(\"\\nThis attack is not very effective...\\n\")\n",
    " \n",
    "for s in successful_attacks:\n",
    "    print(s) "
   ]
  },
  {
   "cell_type": "markdown",
   "metadata": {},
   "source": [
    "2. Blur using median filters"
   ]
  },
  {
   "cell_type": "code",
   "execution_count": 26,
   "metadata": {},
   "outputs": [
    {
     "name": "stderr",
     "output_type": "stream",
     "text": [
      "Blurring 2 images: 100%|██████████| 2/2 [04:45<00:00, 142.55s/it]"
     ]
    },
    {
     "name": "stdout",
     "output_type": "stream",
     "text": [
      "\n",
      "Average wpsnr of successful attacks: 40.817217670811345\n",
      "Max wpsnr of successful attacks: 46.08652812892195 --> 3 robustness points\n",
      "\n",
      "{'image': '0087.bmp', 'attack': 'blur_median', 'param': {'size': [1, 5]}, 'wpsnr': 43.426989413837305, 'detection': 0}\n",
      "{'image': '0087.bmp', 'attack': 'blur_median', 'param': {'size': [3, 3]}, 'wpsnr': 46.08652812892195, 'detection': 0}\n",
      "{'image': '0087.bmp', 'attack': 'blur_median', 'param': {'size': [5, 1]}, 'wpsnr': 40.31324631684633, 'detection': 0}\n",
      "{'image': '0087.bmp', 'attack': 'blur_median', 'param': {'size': [7, 1]}, 'wpsnr': 35.64198958838507, 'detection': 0}\n",
      "{'image': '0029.bmp', 'attack': 'blur_median', 'param': {'size': [3, 3]}, 'wpsnr': 42.17102272513812, 'detection': 0}\n",
      "{'image': '0029.bmp', 'attack': 'blur_median', 'param': {'size': [5, 3]}, 'wpsnr': 37.2635298517393, 'detection': 0}\n"
     ]
    },
    {
     "name": "stderr",
     "output_type": "stream",
     "text": [
      "\n"
     ]
    }
   ],
   "source": [
    "progress_bar = tqdm(watermarked, desc = \"Blurring \" + str(N) + \" images\")\n",
    "history = []\n",
    "successful_attacks = []\n",
    "total = 0\n",
    "succ = 0\n",
    "avg = 0\n",
    "max = 0\n",
    "\n",
    "for index, wm in enumerate(progress_bar):\n",
    "    for height in np.arange(1, 15, 2):\n",
    "        for width in np.arange(1, 15, 2):\n",
    "            attacked, attack_name, usd = grt.blur_median(wm, [height, width])\n",
    "            detected = detection.detection(images[index], wm, attacked, alpha, max_layer)\n",
    "            wpsnr_attacked = utility.wpsnr(wm, attacked)\n",
    "            log = {\"image\" : img_files[index],\n",
    "                    \"attack\" : attack_name,\n",
    "                    \"param\" : usd,\n",
    "                    \"wpsnr\" : wpsnr_attacked,\n",
    "                    \"detection\" : detected}\n",
    "            history.append(log)\n",
    "            if detected == 0 and wpsnr >= 35:\n",
    "                total += wpsnr_attacked\n",
    "                succ +=1\n",
    "                successful_attacks.append(log)\n",
    "                if wpsnr_attacked > max:\n",
    "                    max = wpsnr_attacked\n",
    "                break\n",
    "\n",
    "if succ > 0:\n",
    "    avg = total/succ\n",
    "    print(\"\\nAverage wpsnr of successful attacks: \" + str(avg) + ' --> ' + str(robustness(avg)) + ' robustness points')\n",
    "    print(\"Max wpsnr of successful attacks: \" + str(max) + ' --> ' + str(robustness(max)) + ' robustness points\\n') \n",
    "else:\n",
    "    print(\"\\nThis attack is not very effective...\\n\")\n",
    "\n",
    "for s in successful_attacks:\n",
    "    print(s) "
   ]
  },
  {
   "cell_type": "markdown",
   "metadata": {},
   "source": [
    "3. Adding white gaussian noise (AWGN)"
   ]
  },
  {
   "cell_type": "code",
   "execution_count": 33,
   "metadata": {},
   "outputs": [
    {
     "name": "stderr",
     "output_type": "stream",
     "text": [
      "Applying AWGN to 2 images: 100%|██████████| 2/2 [00:31<00:00, 15.82s/it]"
     ]
    },
    {
     "name": "stdout",
     "output_type": "stream",
     "text": [
      "\n",
      "Average wpsnr of successful attacks: 37.35400041119342 --> 6 robustness points\n",
      "Max wpsnr of successful attacks: 37.35400041119342 --> 6 robustness points\n",
      "\n",
      "{'image': '0087.bmp', 'attack': 'awgn', 'param': {'mean': 0, 'std': 20, 'seed': 100}, 'wpsnr': 37.35400041119342, 'detection': 0}\n"
     ]
    },
    {
     "name": "stderr",
     "output_type": "stream",
     "text": [
      "\n"
     ]
    }
   ],
   "source": [
    "progress_bar = tqdm(watermarked, desc = \"Applying AWGN to \" + str(N) + \" images\")\n",
    "history = []\n",
    "successful_attacks = []\n",
    "total = 0\n",
    "succ = 0\n",
    "avg = 0\n",
    "max = 0\n",
    "\n",
    "for index, wm in enumerate(progress_bar):\n",
    "    for std in range(0, 110, 10):\n",
    "        attacked, attack_name, usd = grt.awgn(wm, 0, std, 100)\n",
    "        detected = detection.detection(images[index], wm, attacked, alpha, max_layer)\n",
    "        wpsnr_attacked = utility.wpsnr(wm, attacked)\n",
    "        log = {\"image\" : img_files[index],\n",
    "                \"attack\" : attack_name,\n",
    "                \"param\" : usd,\n",
    "                \"wpsnr\" : wpsnr_attacked,\n",
    "                \"detection\" : detected}\n",
    "        history.append(log)\n",
    "        if detected == 0 and wpsnr >= 35:\n",
    "            total += wpsnr_attacked\n",
    "            succ +=1\n",
    "            successful_attacks.append(log)\n",
    "            if wpsnr_attacked > max:\n",
    "                max = wpsnr_attacked\n",
    "            break\n",
    "\n",
    "if succ > 0:\n",
    "    avg = total/succ\n",
    "    print(\"\\nAverage wpsnr of successful attacks: \" + str(avg) + ' --> ' + str(robustness(avg)) + ' robustness points')\n",
    "    print(\"Max wpsnr of successful attacks: \" + str(max) + ' --> ' + str(robustness(max)) + ' robustness points\\n') \n",
    "else:\n",
    "    print(\"\\nThis attack is not very effective...\\n\")\n",
    " \n",
    "for s in successful_attacks:\n",
    "    print(s)"
   ]
  },
  {
   "cell_type": "markdown",
   "metadata": {},
   "source": [
    "4. JPEG compression"
   ]
  },
  {
   "cell_type": "code",
   "execution_count": 34,
   "metadata": {},
   "outputs": [
    {
     "name": "stderr",
     "output_type": "stream",
     "text": [
      "Compressing 2 images: 100%|██████████| 2/2 [01:33<00:00, 46.72s/it]"
     ]
    },
    {
     "name": "stdout",
     "output_type": "stream",
     "text": [
      "\n",
      "Average wpsnr of successful attacks: 51.446251014756726 --> 1 robustness points\n",
      "Max wpsnr of successful attacks: 52.143191844857746 --> 1 robustness points\n",
      "\n",
      "{'image': '0087.bmp', 'attack': 'jpeg_compression', 'param': {'qf': 55}, 'wpsnr': 52.143191844857746, 'detection': 0}\n",
      "{'image': '0029.bmp', 'attack': 'jpeg_compression', 'param': {'qf': 45}, 'wpsnr': 50.749310184655705, 'detection': 0}\n"
     ]
    },
    {
     "name": "stderr",
     "output_type": "stream",
     "text": [
      "\n"
     ]
    }
   ],
   "source": [
    "progress_bar = tqdm(watermarked, desc = \"Compressing \" + str(N) + \" images\")\n",
    "history = []\n",
    "successful_attacks = []\n",
    "total = 0\n",
    "succ = 0\n",
    "avg = 0\n",
    "max = 0\n",
    "\n",
    "for index, wm in enumerate(progress_bar):\n",
    "    for qf in range(0, 100, 2):\n",
    "        attacked, attack_name, usd = grt.jpeg_compression(wm, (100 - qf))\n",
    "        detected = detection.detection(images[index], wm, attacked, alpha, max_layer)\n",
    "        wpsnr_attacked = utility.wpsnr(wm, attacked)\n",
    "        log = {\"image\" : img_files[index],\n",
    "                \"attack\" : attack_name,\n",
    "                \"param\" : usd,\n",
    "                \"wpsnr\" : wpsnr_attacked,\n",
    "                \"detection\" : detected}\n",
    "        history.append(log)\n",
    "        if detected == 0 and wpsnr >= 35:\n",
    "            total += wpsnr_attacked\n",
    "            succ +=1\n",
    "            successful_attacks.append(log)\n",
    "            if wpsnr_attacked > max:\n",
    "                max = wpsnr_attacked\n",
    "            break\n",
    "\n",
    "if succ > 0:\n",
    "    avg = total/succ\n",
    "    print(\"\\nAverage wpsnr of successful attacks: \" + str(avg) + ' --> ' + str(robustness(avg)) + ' robustness points')\n",
    "    print(\"Max wpsnr of successful attacks: \" + str(max) + ' --> ' + str(robustness(max)) + ' robustness points\\n') \n",
    "else:\n",
    "    print(\"\\nThis attack is not very effective...\\n\")\n",
    "\n",
    "for s in successful_attacks:\n",
    "    print(s)"
   ]
  },
  {
   "cell_type": "markdown",
   "metadata": {},
   "source": [
    "5. Resizing"
   ]
  },
  {
   "cell_type": "code",
   "execution_count": 36,
   "metadata": {},
   "outputs": [
    {
     "name": "stderr",
     "output_type": "stream",
     "text": [
      "Resizing 2 images: 100%|██████████| 2/2 [10:09<00:00, 304.86s/it]"
     ]
    },
    {
     "name": "stdout",
     "output_type": "stream",
     "text": [
      "\n",
      "This attack is not very effective...\n",
      "\n"
     ]
    },
    {
     "name": "stderr",
     "output_type": "stream",
     "text": [
      "\n"
     ]
    }
   ],
   "source": [
    "progress_bar = tqdm(watermarked, desc = \"Resizing \" + str(N) + \" images\")\n",
    "history = []\n",
    "successful_attacks = []\n",
    "total = 0\n",
    "succ = 0\n",
    "avg = 0\n",
    "max = 0\n",
    "\n",
    "for index, wm in enumerate(progress_bar):\n",
    "    for scale in np.arange(0, 1, 0.01, dtype = np.float16):\n",
    "        attacked, attack_name, usd = grt.resize(wm, (1 - scale))\n",
    "        detected = detection.detection(images[index], wm, attacked, alpha, max_layer)\n",
    "        wpsnr_attacked = utility.wpsnr(wm, attacked)\n",
    "        log = {\"image\" : img_files[index],\n",
    "                \"attack\" : attack_name,\n",
    "                \"param\" : usd,\n",
    "                \"wpsnr\" : wpsnr_attacked,\n",
    "                \"detection\" : detected}\n",
    "        history.append(log)\n",
    "        if detected == 0 and wpsnr >= 35:\n",
    "            total += wpsnr_attacked\n",
    "            succ +=1\n",
    "            successful_attacks.append(log)\n",
    "            if wpsnr_attacked > max:\n",
    "                max = wpsnr_attacked\n",
    "            break\n",
    "\n",
    "if succ > 0:\n",
    "    avg = total/succ\n",
    "    print(\"\\nAverage wpsnr of successful attacks: \" + str(avg) + ' --> ' + str(robustness(avg)) + ' robustness points')\n",
    "    print(\"Max wpsnr of successful attacks: \" + str(max) + ' --> ' + str(robustness(max)) + ' robustness points\\n') \n",
    "else:\n",
    "    print(\"\\nThis attack is not very effective...\\n\")\n",
    " \n",
    "for s in successful_attacks:\n",
    "    print(s) "
   ]
  },
  {
   "cell_type": "markdown",
   "metadata": {},
   "source": [
    "### Localized attacks\n",
    "\n",
    "1. Blur edges using gaussian filters "
   ]
  },
  {
   "cell_type": "code",
   "execution_count": 38,
   "metadata": {},
   "outputs": [
    {
     "name": "stderr",
     "output_type": "stream",
     "text": [
      "Blurring edges of 2 images: 100%|██████████| 2/2 [01:05<00:00, 32.74s/it]"
     ]
    },
    {
     "name": "stdout",
     "output_type": "stream",
     "text": [
      "\n",
      "Average wpsnr of successful attacks: 51.629031994203956 --> 1 robustness points\n",
      "Max wpsnr of successful attacks: 56.625201986855174 --> 0 robustness points\n",
      "\n",
      "{'image': '0087.bmp', 'attack': 'gauss_edge', 'param': {'sigma': 0.5, 'edge_func': 0}, 'wpsnr': 56.625201986855174, 'detection': 0}\n",
      "{'image': '0087.bmp', 'attack': 'gauss_edge', 'param': {'sigma': 0.8, 'edge_func': 1}, 'wpsnr': 52.05988177497166, 'detection': 0}\n",
      "{'image': '0029.bmp', 'attack': 'gauss_edge', 'param': {'sigma': 0.5, 'edge_func': 0}, 'wpsnr': 51.729198334967485, 'detection': 0}\n",
      "{'image': '0029.bmp', 'attack': 'gauss_edge', 'param': {'sigma': 0.9, 'edge_func': 1}, 'wpsnr': 46.10184588002149, 'detection': 0}\n"
     ]
    },
    {
     "name": "stderr",
     "output_type": "stream",
     "text": [
      "\n"
     ]
    }
   ],
   "source": [
    "progress_bar = tqdm(watermarked, desc = \"Blurring edges of \" + str(N) + \" images\")\n",
    "history = []\n",
    "successful_attacks = []\n",
    "total = 0\n",
    "succ = 0\n",
    "avg = 0\n",
    "max = 0\n",
    "\n",
    "for index, wm in enumerate(progress_bar):\n",
    "    for edge_func in range(0, 2):\n",
    "        for sigma in np.arange(0, 5, 0.1, dtype = np.float16):        \n",
    "            attacked, attack_name, usd = grt.gauss_edge(wm, sigma, edge_func)\n",
    "            detected = detection.detection(images[index], wm, attacked, alpha, max_layer)\n",
    "            wpsnr_attacked = utility.wpsnr(wm, attacked)\n",
    "            log = {\"image\" : img_files[index],\n",
    "                    \"attack\" : attack_name,\n",
    "                    \"param\" : usd,\n",
    "                    \"wpsnr\" : wpsnr_attacked,\n",
    "                    \"detection\" : detected}\n",
    "            history.append(log)\n",
    "            if detected == 0 and wpsnr >= 35:\n",
    "                total += wpsnr_attacked\n",
    "                succ +=1\n",
    "                successful_attacks.append(log)\n",
    "                if wpsnr_attacked > max:\n",
    "                    max = wpsnr_attacked\n",
    "                break\n",
    "\n",
    "if succ > 0:\n",
    "    avg = total/succ\n",
    "    print(\"\\nAverage wpsnr of successful attacks: \" + str(avg) + ' --> ' + str(robustness(avg)) + ' robustness points')\n",
    "    print(\"Max wpsnr of successful attacks: \" + str(max) + ' --> ' + str(robustness(max)) + ' robustness points\\n') \n",
    "else:\n",
    "    print(\"\\nThis attack is not very effective...\\n\")\n",
    " \n",
    "for s in successful_attacks:\n",
    "    print(s) "
   ]
  },
  {
   "cell_type": "markdown",
   "metadata": {},
   "source": [
    "2. Blur edges using median filters"
   ]
  },
  {
   "cell_type": "code",
   "execution_count": 39,
   "metadata": {},
   "outputs": [
    {
     "name": "stderr",
     "output_type": "stream",
     "text": [
      "Blurring edges of 2 images: 100%|██████████| 2/2 [06:57<00:00, 208.51s/it]"
     ]
    },
    {
     "name": "stdout",
     "output_type": "stream",
     "text": [
      "\n",
      "Average wpsnr of successful attacks: 40.4230855592633 --> 5 robustness points\n",
      "Max wpsnr of successful attacks: 48.18372154663639 --> 2 robustness points\n",
      "\n",
      "{'image': '0087.bmp', 'attack': 'median_edge', 'param': {'size': [1, 7], 'edge_func': 0}, 'wpsnr': 41.672705759368405, 'detection': 0}\n",
      "{'image': '0087.bmp', 'attack': 'median_edge', 'param': {'size': [3, 3], 'edge_func': 0}, 'wpsnr': 48.18372154663639, 'detection': 0}\n",
      "{'image': '0087.bmp', 'attack': 'median_edge', 'param': {'size': [5, 1], 'edge_func': 0}, 'wpsnr': 42.223749330901626, 'detection': 0}\n",
      "{'image': '0087.bmp', 'attack': 'median_edge', 'param': {'size': [7, 1], 'edge_func': 0}, 'wpsnr': 37.858252934914546, 'detection': 0}\n",
      "{'image': '0087.bmp', 'attack': 'median_edge', 'param': {'size': [9, 1], 'edge_func': 0}, 'wpsnr': 35.604925367351065, 'detection': 0}\n",
      "{'image': '0087.bmp', 'attack': 'median_edge', 'param': {'size': [3, 9], 'edge_func': 1}, 'wpsnr': 44.13541214701581, 'detection': 0}\n",
      "{'image': '0087.bmp', 'attack': 'median_edge', 'param': {'size': [5, 5], 'edge_func': 1}, 'wpsnr': 45.39806164481962, 'detection': 0}\n",
      "{'image': '0087.bmp', 'attack': 'median_edge', 'param': {'size': [7, 3], 'edge_func': 1}, 'wpsnr': 43.97207354959772, 'detection': 0}\n",
      "{'image': '0087.bmp', 'attack': 'median_edge', 'param': {'size': [9, 3], 'edge_func': 1}, 'wpsnr': 42.261857967943975, 'detection': 0}\n",
      "{'image': '0087.bmp', 'attack': 'median_edge', 'param': {'size': [11, 1], 'edge_func': 1}, 'wpsnr': 41.7446853233658, 'detection': 0}\n",
      "{'image': '0087.bmp', 'attack': 'median_edge', 'param': {'size': [13, 1], 'edge_func': 1}, 'wpsnr': 41.25987967970117, 'detection': 0}\n",
      "{'image': '0029.bmp', 'attack': 'median_edge', 'param': {'size': [3, 5], 'edge_func': 0}, 'wpsnr': 35.968667170896495, 'detection': 0}\n",
      "{'image': '0029.bmp', 'attack': 'median_edge', 'param': {'size': [5, 3], 'edge_func': 0}, 'wpsnr': 38.52943649421182, 'detection': 0}\n",
      "{'image': '0029.bmp', 'attack': 'median_edge', 'param': {'size': [5, 9], 'edge_func': 1}, 'wpsnr': 38.624279976908504, 'detection': 0}\n",
      "{'image': '0029.bmp', 'attack': 'median_edge', 'param': {'size': [7, 7], 'edge_func': 1}, 'wpsnr': 38.24383170408209, 'detection': 0}\n",
      "{'image': '0029.bmp', 'attack': 'median_edge', 'param': {'size': [9, 5], 'edge_func': 1}, 'wpsnr': 37.8702140434364, 'detection': 0}\n",
      "{'image': '0029.bmp', 'attack': 'median_edge', 'param': {'size': [11, 5], 'edge_func': 1}, 'wpsnr': 37.2233653419163, 'detection': 0}\n",
      "{'image': '0029.bmp', 'attack': 'median_edge', 'param': {'size': [13, 5], 'edge_func': 1}, 'wpsnr': 36.840420083671724, 'detection': 0}\n"
     ]
    },
    {
     "name": "stderr",
     "output_type": "stream",
     "text": [
      "\n"
     ]
    }
   ],
   "source": [
    "progress_bar = tqdm(watermarked, desc = \"Blurring edges of \" + str(N) + \" images\")\n",
    "history = []\n",
    "successful_attacks = []\n",
    "total = 0\n",
    "succ = 0\n",
    "avg = 0\n",
    "max = 0\n",
    "\n",
    "for index, wm in enumerate(progress_bar):\n",
    "    for edge_func in range(0, 2):\n",
    "        for height in np.arange(1, 15, 2):\n",
    "            for width in np.arange(1, 15, 2):       \n",
    "                attacked, attack_name, usd = grt.median_edge(wm, [height, width], edge_func)\n",
    "                detected = detection.detection(images[index], wm, attacked, alpha, max_layer)\n",
    "                wpsnr_attacked = utility.wpsnr(wm, attacked)\n",
    "                log = {\"image\" : img_files[index],\n",
    "                        \"attack\" : attack_name,\n",
    "                        \"param\" : usd,\n",
    "                        \"wpsnr\" : wpsnr_attacked,\n",
    "                        \"detection\" : detected}\n",
    "                history.append(log)\n",
    "                if detected == 0 and wpsnr >= 35:\n",
    "                    total += wpsnr_attacked\n",
    "                    succ +=1\n",
    "                    successful_attacks.append(log)\n",
    "                    if wpsnr_attacked > max:\n",
    "                        max = wpsnr_attacked\n",
    "                    break\n",
    "\n",
    "if succ > 0:\n",
    "    avg = total/succ\n",
    "    print(\"\\nAverage wpsnr of successful attacks: \" + str(avg) + ' --> ' + str(robustness(avg)) + ' robustness points')\n",
    "    print(\"Max wpsnr of successful attacks: \" + str(max) + ' --> ' + str(robustness(max)) + ' robustness points\\n') \n",
    "else:\n",
    "    print(\"\\nThis attack is not very effective...\\n\")\n",
    " \n",
    "for s in successful_attacks:\n",
    "    print(s) "
   ]
  },
  {
   "cell_type": "markdown",
   "metadata": {},
   "source": [
    "3. Blur flat regions using gaussian filters"
   ]
  },
  {
   "cell_type": "code",
   "execution_count": 40,
   "metadata": {},
   "outputs": [
    {
     "name": "stderr",
     "output_type": "stream",
     "text": [
      "Blurring edges of 2 images: 100%|██████████| 2/2 [03:24<00:00, 102.42s/it]"
     ]
    },
    {
     "name": "stdout",
     "output_type": "stream",
     "text": [
      "\n",
      "Average wpsnr of successful attacks: 52.125245009188376 --> 1 robustness points\n",
      "Max wpsnr of successful attacks: 56.368261742338575 --> 0 robustness points\n",
      "\n",
      "{'image': '0087.bmp', 'attack': 'gauss_flat', 'param': {'sigma': 0.5, 'edge_func': 1}, 'wpsnr': 56.368261742338575, 'detection': 0}\n",
      "{'image': '0029.bmp', 'attack': 'gauss_flat', 'param': {'sigma': 0.5996, 'edge_func': 1}, 'wpsnr': 47.88222827603818, 'detection': 0}\n"
     ]
    },
    {
     "name": "stderr",
     "output_type": "stream",
     "text": [
      "\n"
     ]
    }
   ],
   "source": [
    "progress_bar = tqdm(watermarked, desc = \"Blurring edges of \" + str(N) + \" images\")\n",
    "history = []\n",
    "successful_attacks = []\n",
    "total = 0\n",
    "succ = 0\n",
    "avg = 0\n",
    "max = 0\n",
    "\n",
    "for index, wm in enumerate(progress_bar):\n",
    "    for edge_func in range(0, 2):\n",
    "        for sigma in np.arange(0, 5, 0.1, dtype = np.float16):        \n",
    "            attacked, attack_name, usd = grt.gauss_flat(wm, sigma, edge_func)\n",
    "            detected = detection.detection(images[index], wm, attacked, alpha, max_layer)\n",
    "            wpsnr_attacked = utility.wpsnr(wm, attacked)\n",
    "            log = {\"image\" : img_files[index],\n",
    "                    \"attack\" : attack_name,\n",
    "                    \"param\" : usd,\n",
    "                    \"wpsnr\" : wpsnr_attacked,\n",
    "                    \"detection\" : detected}\n",
    "            history.append(log)\n",
    "            if detected == 0 and wpsnr >= 35:\n",
    "                total += wpsnr_attacked\n",
    "                succ +=1\n",
    "                successful_attacks.append(log)\n",
    "                if wpsnr_attacked > max:\n",
    "                    max = wpsnr_attacked\n",
    "                break\n",
    "\n",
    "if succ > 0:\n",
    "    avg = total/succ\n",
    "    print(\"\\nAverage wpsnr of successful attacks: \" + str(avg) + ' --> ' + str(robustness(avg)) + ' robustness points')\n",
    "    print(\"Max wpsnr of successful attacks: \" + str(max) + ' --> ' + str(robustness(max)) + ' robustness points\\n') \n",
    "else:\n",
    "    print(\"\\nThis attack is not very effective...\\n\")\n",
    " \n",
    "for s in successful_attacks:\n",
    "    print(s) "
   ]
  },
  {
   "cell_type": "markdown",
   "metadata": {},
   "source": [
    "4. Blur flat regions using median filters"
   ]
  },
  {
   "cell_type": "code",
   "execution_count": 41,
   "metadata": {},
   "outputs": [
    {
     "name": "stderr",
     "output_type": "stream",
     "text": [
      "Blurring edges of 2 images: 100%|██████████| 2/2 [08:31<00:00, 255.60s/it]"
     ]
    },
    {
     "name": "stdout",
     "output_type": "stream",
     "text": [
      "\n",
      "Average wpsnr of successful attacks: 40.12834733278909 --> 5 robustness points\n",
      "Max wpsnr of successful attacks: 48.62189236596774 --> 2 robustness points\n",
      "\n",
      "{'image': '0087.bmp', 'attack': 'median_flat', 'param': {'size': [1, 7], 'edge_func': 1}, 'wpsnr': 42.97391566249702, 'detection': 0}\n",
      "{'image': '0087.bmp', 'attack': 'median_flat', 'param': {'size': [3, 3], 'edge_func': 1}, 'wpsnr': 48.62189236596774, 'detection': 0}\n",
      "{'image': '0087.bmp', 'attack': 'median_flat', 'param': {'size': [5, 3], 'edge_func': 1}, 'wpsnr': 41.79203923749326, 'detection': 0}\n",
      "{'image': '0087.bmp', 'attack': 'median_flat', 'param': {'size': [7, 1], 'edge_func': 1}, 'wpsnr': 38.04308875788846, 'detection': 0}\n",
      "{'image': '0087.bmp', 'attack': 'median_flat', 'param': {'size': [9, 1], 'edge_func': 1}, 'wpsnr': 35.9135009030011, 'detection': 0}\n",
      "{'image': '0029.bmp', 'attack': 'median_flat', 'param': {'size': [3, 5], 'edge_func': 1}, 'wpsnr': 36.82974742009318, 'detection': 0}\n",
      "{'image': '0029.bmp', 'attack': 'median_flat', 'param': {'size': [5, 3], 'edge_func': 1}, 'wpsnr': 40.46750380032725, 'detection': 0}\n",
      "{'image': '0029.bmp', 'attack': 'median_flat', 'param': {'size': [7, 3], 'edge_func': 1}, 'wpsnr': 36.38509051504469, 'detection': 0}\n"
     ]
    },
    {
     "name": "stderr",
     "output_type": "stream",
     "text": [
      "\n"
     ]
    }
   ],
   "source": [
    "progress_bar = tqdm(watermarked, desc = \"Blurring edges of \" + str(N) + \" images\")\n",
    "history = []\n",
    "successful_attacks = []\n",
    "total = 0\n",
    "succ = 0\n",
    "avg = 0\n",
    "max = 0\n",
    "\n",
    "for index, wm in enumerate(progress_bar):\n",
    "    for edge_func in range(0, 2):\n",
    "        for height in np.arange(1, 15, 2):\n",
    "            for width in np.arange(1, 15, 2):       \n",
    "                attacked, attack_name, usd = grt.median_flat(wm, [height, width], edge_func)\n",
    "                detected = detection.detection(images[index], wm, attacked, alpha, max_layer)\n",
    "                wpsnr_attacked = utility.wpsnr(wm, attacked)\n",
    "                log = {\"image\" : img_files[index],\n",
    "                        \"attack\" : attack_name,\n",
    "                        \"param\" : usd,\n",
    "                        \"wpsnr\" : wpsnr_attacked,\n",
    "                        \"detection\" : detected}\n",
    "                history.append(log)\n",
    "                if detected == 0 and wpsnr >= 35:\n",
    "                    total += wpsnr_attacked\n",
    "                    succ +=1\n",
    "                    successful_attacks.append(log)\n",
    "                    if wpsnr_attacked > max:\n",
    "                        max = wpsnr_attacked\n",
    "                    break\n",
    "\n",
    "if succ > 0:\n",
    "    avg = total/succ\n",
    "    print(\"\\nAverage wpsnr of successful attacks: \" + str(avg) + ' --> ' + str(robustness(avg)) + ' robustness points')\n",
    "    print(\"Max wpsnr of successful attacks: \" + str(max) + ' --> ' + str(robustness(max)) + ' robustness points\\n') \n",
    "else:\n",
    "    print(\"\\nThis attack is not very effective...\\n\")\n",
    " \n",
    "for s in successful_attacks:\n",
    "    print(s) "
   ]
  },
  {
   "cell_type": "markdown",
   "metadata": {},
   "source": [
    "5. Adding white gaussian noise (AWGN) to edges"
   ]
  },
  {
   "cell_type": "code",
   "execution_count": 42,
   "metadata": {},
   "outputs": [
    {
     "name": "stderr",
     "output_type": "stream",
     "text": [
      "Applying AWGN to edges of 2 images: 100%|██████████| 2/2 [00:48<00:00, 24.13s/it]"
     ]
    },
    {
     "name": "stdout",
     "output_type": "stream",
     "text": [
      "\n",
      "Average wpsnr of successful attacks: 41.00547813421608 --> 4 robustness points\n",
      "Max wpsnr of successful attacks: 45.35693156070433 --> 3 robustness points\n",
      "\n",
      "{'image': '0087.bmp', 'attack': 'awgn_edge', 'param': {'mean': 0, 'std': 20, 'seed': 100, 'edge_func': 0}, 'wpsnr': 45.35693156070433, 'detection': 0}\n",
      "{'image': '0087.bmp', 'attack': 'awgn_edge', 'param': {'mean': 0, 'std': 30, 'seed': 100, 'edge_func': 1}, 'wpsnr': 39.464012971328025, 'detection': 0}\n",
      "{'image': '0029.bmp', 'attack': 'awgn_edge', 'param': {'mean': 0, 'std': 40, 'seed': 100, 'edge_func': 0}, 'wpsnr': 38.19548987061588, 'detection': 0}\n"
     ]
    },
    {
     "name": "stderr",
     "output_type": "stream",
     "text": [
      "\n"
     ]
    }
   ],
   "source": [
    "progress_bar = tqdm(watermarked, desc = \"Applying AWGN to edges of \" + str(N) + \" images\")\n",
    "history = []\n",
    "successful_attacks = []\n",
    "total = 0\n",
    "succ = 0\n",
    "avg = 0\n",
    "max = 0\n",
    "\n",
    "for index, wm in enumerate(progress_bar):\n",
    "    for edge_func in range(0, 2):\n",
    "        for std in range(0, 110, 10):      \n",
    "            attacked, attack_name, usd = grt.awgn_edge(wm, 0, std, 100, edge_func)\n",
    "            detected = detection.detection(images[index], wm, attacked, alpha, max_layer)\n",
    "            wpsnr_attacked = utility.wpsnr(wm, attacked)\n",
    "            log = {\"image\" : img_files[index],\n",
    "                    \"attack\" : attack_name,\n",
    "                    \"param\" : usd,\n",
    "                    \"wpsnr\" : wpsnr_attacked,\n",
    "                    \"detection\" : detected}\n",
    "            history.append(log)\n",
    "            if detected == 0 and wpsnr >= 35:\n",
    "                total += wpsnr_attacked\n",
    "                succ +=1\n",
    "                successful_attacks.append(log)\n",
    "                if wpsnr_attacked > max:\n",
    "                    max = wpsnr_attacked\n",
    "                break\n",
    "\n",
    "if succ > 0:\n",
    "    avg = total/succ\n",
    "    print(\"\\nAverage wpsnr of successful attacks: \" + str(avg) + ' --> ' + str(robustness(avg)) + ' robustness points')\n",
    "    print(\"Max wpsnr of successful attacks: \" + str(max) + ' --> ' + str(robustness(max)) + ' robustness points\\n') \n",
    "else:\n",
    "    print(\"\\nThis attack is not very effective...\\n\")\n",
    " \n",
    "for s in successful_attacks:\n",
    "    print(s) "
   ]
  },
  {
   "cell_type": "markdown",
   "metadata": {},
   "source": [
    "### Combo attacks\n",
    "\n",
    "1. Resize a JPEG-compressed watermarked image"
   ]
  },
  {
   "cell_type": "code",
   "execution_count": 94,
   "metadata": {},
   "outputs": [
    {
     "name": "stdout",
     "output_type": "stream",
     "text": [
      "{'image': '0029.bmp', 'attack': 'resize_jpeg', 'param': {'qf': 45, 'scale': 0.999999999}, 'wpsnr': 50.6471425829405, 'detection': 0}\n"
     ]
    }
   ],
   "source": [
    "attacked, attack_name, usd = grt.resize_jpeg(watermarked[1], 45, 0.999999999)\n",
    "detected = detection.detection(images[1], watermarked[1], attacked, alpha, max_layer)\n",
    "wpsnr_attacked = utility.wpsnr(watermarked[1], attacked)\n",
    "log = {\"image\" : img_files[1],\n",
    "                    \"attack\" : attack_name,\n",
    "                    \"param\" : usd,\n",
    "                    \"wpsnr\" : wpsnr_attacked,\n",
    "                    \"detection\" : detected}\n",
    "\n",
    "print(log)"
   ]
  },
  {
   "cell_type": "markdown",
   "metadata": {},
   "source": [
    "2. Blur a JPEG-compressed watermarked image using gaussian filters"
   ]
  },
  {
   "cell_type": "code",
   "execution_count": null,
   "metadata": {},
   "outputs": [],
   "source": [
    "# Coming soon..."
   ]
  },
  {
   "cell_type": "markdown",
   "metadata": {},
   "source": [
    "3. Blur a JPEG-compressed watermarked image using median filters"
   ]
  },
  {
   "cell_type": "code",
   "execution_count": null,
   "metadata": {},
   "outputs": [],
   "source": [
    "# Coming soon..."
   ]
  },
  {
   "cell_type": "markdown",
   "metadata": {},
   "source": [
    "4. Blur after AWGN using gaussian filters"
   ]
  },
  {
   "cell_type": "code",
   "execution_count": null,
   "metadata": {},
   "outputs": [],
   "source": [
    "# Coming soon..."
   ]
  },
  {
   "cell_type": "markdown",
   "metadata": {},
   "source": [
    "5. Blur after AWGN using median filters"
   ]
  },
  {
   "cell_type": "code",
   "execution_count": null,
   "metadata": {},
   "outputs": [],
   "source": [
    "# Coming soon..."
   ]
  },
  {
   "cell_type": "markdown",
   "metadata": {},
   "source": [
    "6. JPEG compression after AWGN"
   ]
  },
  {
   "cell_type": "code",
   "execution_count": null,
   "metadata": {},
   "outputs": [],
   "source": [
    "# Coming soon..."
   ]
  }
 ],
 "metadata": {
  "kernelspec": {
   "display_name": "python38",
   "language": "python",
   "name": "python3"
  },
  "language_info": {
   "codemirror_mode": {
    "name": "ipython",
    "version": 3
   },
   "file_extension": ".py",
   "mimetype": "text/x-python",
   "name": "python",
   "nbconvert_exporter": "python",
   "pygments_lexer": "ipython3",
   "version": "3.8.10"
  }
 },
 "nbformat": 4,
 "nbformat_minor": 2
}
